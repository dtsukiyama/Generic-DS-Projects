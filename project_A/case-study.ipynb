{
 "cells": [
  {
   "cell_type": "markdown",
   "metadata": {},
   "source": [
    "## Contents:\n",
    "* [A Generic Data Science Case Study](#turo)\n",
    "* [Questions](#questions)\n",
    "* [Analysis](#analysis)\n",
    "* [Modeling](#modeling)\n",
    "* [Recommendation Function](#recommendations)\n",
    "* [Measuring business impact](#business)"
   ]
  },
  {
   "cell_type": "markdown",
   "metadata": {},
   "source": [
    "<a id=\"turo\"></a>\n",
    "\n",
    "# A Generic Data Science Case Study"
   ]
  },
  {
   "cell_type": "markdown",
   "metadata": {},
   "source": [
    "When listing a car, a host has the opportunity to set its daily price. In this process, A Generic Company recommends a price (which the host may accept or ignore) that is designed to optimize the host’s revenue, given various properties of the listing.\n",
    "\n",
    "The accompanying file `vehicles_booking_history.csv` contains a sampling of historical data. The dictionary is:\n",
    " * `vehicle_id` - vehicle's unique ID\n",
    " * `date` - calendar date\n",
    " * `tmv` - true market value of vehicle\n",
    " * `category_aggregate` - vehicle category group\n",
    " * `demand_supply_ratio` - demand (count of web and app sessions) over supply (count of live listings) in the vehicle's local market city on a given day\n",
    " * `price` - vehicle's listed price as of the given date\n",
    " * `is_booked` - 1 or 0, depending on if the listing got booked (on this date, at this price, etc)\n",
    "\n",
    "1. Based on this historical data, produce a production-level function that accepts properties of a listing and returns a daily price that is designed to improve/optimize revenue. \n",
    "\n",
    "2. Assuming your function is deployed in production, describe metrics and methods to gauge the success of your recommendations. \n",
    "\n",
    "We’re looking for:\n",
    "* your _approach_ to analysis/modeling---don't chase perfect models, especially given the small amount of data, but be prepared to discuss how you would pursue a good model if there were sufficient data;\n",
    "* organized and intuitive production-level code for the recommendation function itself, as though it were part of a REST API implementation;\n",
    "* thoughtful consideration of how to measure business impact, acknowledging any nuances.\n"
   ]
  },
  {
   "cell_type": "markdown",
   "metadata": {},
   "source": [
    "<a id=\"questions\"></a>\n",
    "## 1. Based on this historical data, produce a production-level function that accepts properties of a listing and returns a daily price that is designed to improve/optimize revenue.\n",
    "\n",
    "\n",
    "__Questions__\n",
    "\n",
    "\n",
    "After thinking about this problem for some time and looking at the data, the following questions came up:\n",
    "\n",
    "__1. What does is mean to optimize a host's revenue?__\n",
    "\n",
    "I don't think the goal would be only to optimize host revenue, as there would likely be some cost function on the Generic Company's side to calculate profit. Additionally, on the demand side, from those looking for a host vehicle, how are they impacted? Does optimize/improve revenue mean maximizing a host's monthly revenue? Which brings up the following question:\n",
    "\n",
    "__2. What else should we look to optimize?__\n",
    "\n",
    "In the paper _Reinforcement Learning for Fair Dynamic Pricing_, the authors suggest that there is a trade-off between revenue and fairness. Specifically in this case they state:\n",
    "\n",
    "> Equality is a critical aspect of\n",
    "dynamic pricing as it influences customers’ perceptions of\n",
    "fairness [6]–[11]. As long as perceptions of fairness are used\n",
    "by people as a heuristic for trust, inequality may lead to a\n",
    "destruction of that trust. For instance, large price differences\n",
    "between groups of customers, or a disagreement between\n",
    "the distribution of cost and profit are known to affect the\n",
    "relationship between customers and sellers [12]. Should this\n",
    "relationship be damaged, it could eventually generate substantial financial losses for a company in the medium- and longterm [13]\n",
    "\n",
    "__3. What would we need for a \"good\" model?__\n",
    "\n",
    "I think there are a few things missing from this dataset that we would ideally want if we were to create a good model, these would be:\n",
    "\n",
    "__a.__ Location data. I think we would want to model demand by location as well as over time.\n",
    "\n",
    "__b.__ Host context. The discussion fairness brought up by the authors of _Reinforcement Learning for Fair Dynamic Pricing_ to me suggests that host characteristics would influence their perception of our price suggestions. For example, perhaps someone who depends on Turo as a source of income may be more sensitive to price suggestions, for them their goal is maximize the number of time of their vehicle is used, resulting on lower average revenue, but more consistent cash flow. Host context may include demograhic and income data or similar data aggregated by location, e.g. average income in the zipcode the host lives. \n",
    "\n",
    "__c.__ Vehicle context. This would include make, model, and options.\n",
    "\n",
    "__4. What contraints do we have?__\n",
    "\n",
    "This question follows from our initial question of what it means to optimize a host's revenue, and this perhaps extends from the business model. An example of a contraint would be: Is there a limit to which we could suggest a lower price? \n",
    "\n",
    "__5. Alternative ways to price?__\n",
    "\n",
    "I would be curious to see what pricing from the customer side looks like. For example, _when_ a customer books a car, how far ahead do they book and what do bookings look like as they get closer to the day of actually picking up a car? Forcasting demand perhaps would allow us to automatically adjust prices for hosts (if they chose to allow us to). "
   ]
  },
  {
   "cell_type": "markdown",
   "metadata": {},
   "source": [
    "<a id=\"analysis\"></a>\n",
    "\n",
    "## Analysis\n",
    "\n",
    "\n",
    "(Import the data and do analysis/modeling/math starting here.)\n",
    "\n",
    "__Data Issues__\n",
    "\n",
    "I can't tell if ```price``` is A Generic Company's suggested price or the price set by the host.\n",
    "\n",
    "Gaps in time series.\n",
    "\n",
    "\n",
    "__Analysis Steps__\n",
    "\n",
    "1. Look at time trends\n",
    "\n",
    "Since we are dealing with demand, supply, and prices I would be interested to see what happens over time both in aggregate and across different variables (specific vehicles and class of vehicle).\n",
    "\n",
    "2. Look at group level statistics\n",
    "\n",
    "3. Look at specific examples\n",
    "\n",
    "4. Look at the impact of price of likelihood of being booked\n",
    "\n"
   ]
  },
  {
   "cell_type": "code",
   "execution_count": 23,
   "metadata": {},
   "outputs": [
    {
     "name": "stdout",
     "output_type": "stream",
     "text": [
      "The autoreload extension is already loaded. To reload it, use:\n",
      "  %reload_ext autoreload\n",
      "Populating the interactive namespace from numpy and matplotlib\n"
     ]
    },
    {
     "name": "stderr",
     "output_type": "stream",
     "text": [
      "/Users/maitsukiyama/miniconda3/envs/test/lib/python3.7/site-packages/IPython/core/magics/pylab.py:160: UserWarning: pylab import has clobbered these variables: ['poisson']\n",
      "`%matplotlib` prevents importing * from pylab and numpy\n",
      "  \"\\n`%matplotlib` prevents importing * from pylab and numpy\"\n"
     ]
    }
   ],
   "source": [
    "%load_ext autoreload\n",
    "%autoreload 2\n",
    "\n",
    "import pandas as pd\n",
    "import numpy as np\n",
    "import seaborn as sns\n",
    "import matplotlib.pyplot as plt\n",
    "import os\n",
    "import statsmodels.api as sm\n",
    "\n",
    "from scipy.stats import poisson\n",
    "from utils.utils import Processing\n",
    "from sklearn.tree import DecisionTreeRegressor\n",
    "from sklearn.model_selection import train_test_split\n",
    "from sklearn.metrics import mean_absolute_error\n",
    "from IPython.display import Image\n",
    "\n",
    "from collections import Counter\n",
    "sns.set(style=\"dark\")\n",
    "\n",
    "%pylab inline"
   ]
  },
  {
   "cell_type": "code",
   "execution_count": 24,
   "metadata": {},
   "outputs": [],
   "source": [
    "df = pd.read_csv('vehicles_booking_history.csv')"
   ]
  },
  {
   "cell_type": "code",
   "execution_count": 25,
   "metadata": {},
   "outputs": [
    {
     "data": {
      "text/plain": [
       "(1890, 7)"
      ]
     },
     "execution_count": 25,
     "metadata": {},
     "output_type": "execute_result"
    }
   ],
   "source": [
    "df.shape"
   ]
  },
  {
   "cell_type": "markdown",
   "metadata": {},
   "source": [
    "## Process data"
   ]
  },
  {
   "cell_type": "code",
   "execution_count": 26,
   "metadata": {},
   "outputs": [],
   "source": [
    "df = Processing.clean(df)"
   ]
  },
  {
   "cell_type": "code",
   "execution_count": 27,
   "metadata": {},
   "outputs": [
    {
     "data": {
      "text/plain": [
       "vehicle_id                      int64\n",
       "date                   datetime64[ns]\n",
       "is_booked                       int64\n",
       "tmv                             int64\n",
       "category_grouped               object\n",
       "demand_supply_ratio           float64\n",
       "price                         float64\n",
       "day                             int64\n",
       "week                            int64\n",
       "month                           int64\n",
       "log_price                     float64\n",
       "log_tmv                       float64\n",
       "host_revenue                  float64\n",
       "day_bookings                    int64\n",
       "dtype: object"
      ]
     },
     "execution_count": 27,
     "metadata": {},
     "output_type": "execute_result"
    }
   ],
   "source": [
    "df.dtypes"
   ]
  },
  {
   "cell_type": "code",
   "execution_count": 28,
   "metadata": {},
   "outputs": [
    {
     "data": {
      "text/plain": [
       "count    1890.000000\n",
       "mean        6.043046\n",
       "std         3.951393\n",
       "min         0.463101\n",
       "25%         3.002744\n",
       "50%         5.694339\n",
       "75%         8.431289\n",
       "max        23.333333\n",
       "Name: demand_supply_ratio, dtype: float64"
      ]
     },
     "execution_count": 28,
     "metadata": {},
     "output_type": "execute_result"
    }
   ],
   "source": [
    "df['demand_supply_ratio'].describe()"
   ]
  },
  {
   "cell_type": "code",
   "execution_count": 29,
   "metadata": {},
   "outputs": [
    {
     "data": {
      "text/html": [
       "<div>\n",
       "<style scoped>\n",
       "    .dataframe tbody tr th:only-of-type {\n",
       "        vertical-align: middle;\n",
       "    }\n",
       "\n",
       "    .dataframe tbody tr th {\n",
       "        vertical-align: top;\n",
       "    }\n",
       "\n",
       "    .dataframe thead th {\n",
       "        text-align: right;\n",
       "    }\n",
       "</style>\n",
       "<table border=\"1\" class=\"dataframe\">\n",
       "  <thead>\n",
       "    <tr style=\"text-align: right;\">\n",
       "      <th></th>\n",
       "      <th>vehicle_id</th>\n",
       "      <th>date</th>\n",
       "      <th>is_booked</th>\n",
       "      <th>tmv</th>\n",
       "      <th>category_grouped</th>\n",
       "      <th>demand_supply_ratio</th>\n",
       "      <th>price</th>\n",
       "      <th>day</th>\n",
       "      <th>week</th>\n",
       "      <th>month</th>\n",
       "      <th>log_price</th>\n",
       "      <th>log_tmv</th>\n",
       "      <th>host_revenue</th>\n",
       "      <th>day_bookings</th>\n",
       "    </tr>\n",
       "  </thead>\n",
       "  <tbody>\n",
       "    <tr>\n",
       "      <th>0</th>\n",
       "      <td>174075</td>\n",
       "      <td>2018-02-12</td>\n",
       "      <td>1</td>\n",
       "      <td>5669</td>\n",
       "      <td>midsize</td>\n",
       "      <td>5.269737</td>\n",
       "      <td>30.0</td>\n",
       "      <td>0</td>\n",
       "      <td>7</td>\n",
       "      <td>2</td>\n",
       "      <td>3.401197</td>\n",
       "      <td>8.642768</td>\n",
       "      <td>30.0</td>\n",
       "      <td>3</td>\n",
       "    </tr>\n",
       "    <tr>\n",
       "      <th>1</th>\n",
       "      <td>174075</td>\n",
       "      <td>2018-02-13</td>\n",
       "      <td>0</td>\n",
       "      <td>5669</td>\n",
       "      <td>midsize</td>\n",
       "      <td>4.934747</td>\n",
       "      <td>30.0</td>\n",
       "      <td>1</td>\n",
       "      <td>7</td>\n",
       "      <td>2</td>\n",
       "      <td>3.401197</td>\n",
       "      <td>8.642768</td>\n",
       "      <td>0.0</td>\n",
       "      <td>1</td>\n",
       "    </tr>\n",
       "    <tr>\n",
       "      <th>2</th>\n",
       "      <td>174075</td>\n",
       "      <td>2018-02-14</td>\n",
       "      <td>0</td>\n",
       "      <td>5669</td>\n",
       "      <td>midsize</td>\n",
       "      <td>5.443163</td>\n",
       "      <td>30.0</td>\n",
       "      <td>2</td>\n",
       "      <td>7</td>\n",
       "      <td>2</td>\n",
       "      <td>3.401197</td>\n",
       "      <td>8.642768</td>\n",
       "      <td>0.0</td>\n",
       "      <td>0</td>\n",
       "    </tr>\n",
       "    <tr>\n",
       "      <th>3</th>\n",
       "      <td>174075</td>\n",
       "      <td>2018-02-17</td>\n",
       "      <td>1</td>\n",
       "      <td>5669</td>\n",
       "      <td>midsize</td>\n",
       "      <td>7.376040</td>\n",
       "      <td>30.0</td>\n",
       "      <td>5</td>\n",
       "      <td>7</td>\n",
       "      <td>2</td>\n",
       "      <td>3.401197</td>\n",
       "      <td>8.642768</td>\n",
       "      <td>30.0</td>\n",
       "      <td>1</td>\n",
       "    </tr>\n",
       "    <tr>\n",
       "      <th>4</th>\n",
       "      <td>174075</td>\n",
       "      <td>2018-02-21</td>\n",
       "      <td>0</td>\n",
       "      <td>5669</td>\n",
       "      <td>midsize</td>\n",
       "      <td>5.173203</td>\n",
       "      <td>30.0</td>\n",
       "      <td>2</td>\n",
       "      <td>8</td>\n",
       "      <td>2</td>\n",
       "      <td>3.401197</td>\n",
       "      <td>8.642768</td>\n",
       "      <td>0.0</td>\n",
       "      <td>0</td>\n",
       "    </tr>\n",
       "  </tbody>\n",
       "</table>\n",
       "</div>"
      ],
      "text/plain": [
       "   vehicle_id       date  is_booked   tmv category_grouped  \\\n",
       "0      174075 2018-02-12          1  5669          midsize   \n",
       "1      174075 2018-02-13          0  5669          midsize   \n",
       "2      174075 2018-02-14          0  5669          midsize   \n",
       "3      174075 2018-02-17          1  5669          midsize   \n",
       "4      174075 2018-02-21          0  5669          midsize   \n",
       "\n",
       "   demand_supply_ratio  price  day  week  month  log_price   log_tmv  \\\n",
       "0             5.269737   30.0    0     7      2   3.401197  8.642768   \n",
       "1             4.934747   30.0    1     7      2   3.401197  8.642768   \n",
       "2             5.443163   30.0    2     7      2   3.401197  8.642768   \n",
       "3             7.376040   30.0    5     7      2   3.401197  8.642768   \n",
       "4             5.173203   30.0    2     8      2   3.401197  8.642768   \n",
       "\n",
       "   host_revenue  day_bookings  \n",
       "0          30.0             3  \n",
       "1           0.0             1  \n",
       "2           0.0             0  \n",
       "3          30.0             1  \n",
       "4           0.0             0  "
      ]
     },
     "execution_count": 29,
     "metadata": {},
     "output_type": "execute_result"
    }
   ],
   "source": [
    "df.head()"
   ]
  },
  {
   "cell_type": "markdown",
   "metadata": {},
   "source": [
    "## Bookings over time\n",
    "\n",
    "> It seems that bookings peak during the summer, July and August, as well as in January. So perhaps there are some seasonal trends. "
   ]
  },
  {
   "cell_type": "code",
   "execution_count": 30,
   "metadata": {},
   "outputs": [
    {
     "data": {
      "text/plain": [
       "Text(0.5, 0, 'Date')"
      ]
     },
     "execution_count": 30,
     "metadata": {},
     "output_type": "execute_result"
    },
    {
     "data": {
      "image/png": "[encoded data removed]",
      "text/plain": [
       "<Figure size 432x288 with 1 Axes>"
      ]
     },
     "metadata": {
      "needs_background": "light"
     },
     "output_type": "display_data"
    }
   ],
   "source": [
    "df.set_index('date').resample('W').sum()['is_booked'].plot()\n",
    "plt.title('Bookings over time')\n",
    "plt.ylabel('Bookings')\n",
    "plt.xlabel('Date')"
   ]
  },
  {
   "cell_type": "code",
   "execution_count": 8,
   "metadata": {},
   "outputs": [
    {
     "data": {
      "text/plain": [
       "<matplotlib.axes._subplots.AxesSubplot at 0x11d644080>"
      ]
     },
     "execution_count": 8,
     "metadata": {},
     "output_type": "execute_result"
    },
    {
     "data": {
      "image/png": "[encoded data removed]",
      "text/plain": [
       "<Figure size 432x288 with 1 Axes>"
      ]
     },
     "metadata": {
      "needs_background": "light"
     },
     "output_type": "display_data"
    }
   ],
   "source": [
    "df.set_index('date').resample('W').sum()['demand_supply_ratio'].plot()"
   ]
  },
  {
   "cell_type": "markdown",
   "metadata": {},
   "source": [
    "## Look at bookings over time for different vehicle categories\n",
    "\n",
    "> While the time trend for SUVs seems to follow the aggregate trend, the trend for compat cars does not.\n",
    "\n",
    "Perhaps there are multiple demand curves."
   ]
  },
  {
   "cell_type": "code",
   "execution_count": 9,
   "metadata": {},
   "outputs": [
    {
     "data": {
      "text/plain": [
       "[('suv', 687),\n",
       " ('midsize', 634),\n",
       " ('compact', 421),\n",
       " ('upscale', 80),\n",
       " ('van', 68)]"
      ]
     },
     "execution_count": 9,
     "metadata": {},
     "output_type": "execute_result"
    }
   ],
   "source": [
    "Counter(df.category_grouped).most_common()[:10]"
   ]
  },
  {
   "cell_type": "markdown",
   "metadata": {},
   "source": [
    "## SUV"
   ]
  },
  {
   "cell_type": "code",
   "execution_count": 10,
   "metadata": {},
   "outputs": [
    {
     "data": {
      "text/plain": [
       "<matplotlib.axes._subplots.AxesSubplot at 0x11d7e8668>"
      ]
     },
     "execution_count": 10,
     "metadata": {},
     "output_type": "execute_result"
    },
    {
     "data": {
      "image/png": "[encoded data removed]",
      "text/plain": [
       "<Figure size 432x288 with 1 Axes>"
      ]
     },
     "metadata": {
      "needs_background": "light"
     },
     "output_type": "display_data"
    }
   ],
   "source": [
    "df.query('category_grouped == \"suv\"').set_index('date').resample('W').sum()['is_booked'].plot()"
   ]
  },
  {
   "cell_type": "markdown",
   "metadata": {},
   "source": [
    "## Compact"
   ]
  },
  {
   "cell_type": "code",
   "execution_count": 11,
   "metadata": {},
   "outputs": [
    {
     "data": {
      "text/plain": [
       "<matplotlib.axes._subplots.AxesSubplot at 0x11d925160>"
      ]
     },
     "execution_count": 11,
     "metadata": {},
     "output_type": "execute_result"
    },
    {
     "data": {
      "image/png": "[encoded data removed]",
      "text/plain": [
       "<Figure size 432x288 with 1 Axes>"
      ]
     },
     "metadata": {
      "needs_background": "light"
     },
     "output_type": "display_data"
    }
   ],
   "source": [
    "df.query('category_grouped == \"compact\"').set_index('date').resample('W').sum()['is_booked'].plot()"
   ]
  },
  {
   "cell_type": "markdown",
   "metadata": {},
   "source": [
    "## Midsize"
   ]
  },
  {
   "cell_type": "code",
   "execution_count": 12,
   "metadata": {},
   "outputs": [
    {
     "data": {
      "text/plain": [
       "<matplotlib.axes._subplots.AxesSubplot at 0x11da58a90>"
      ]
     },
     "execution_count": 12,
     "metadata": {},
     "output_type": "execute_result"
    },
    {
     "data": {
      "image/png": "[encoded data removed]",
      "text/plain": [
       "<Figure size 432x288 with 1 Axes>"
      ]
     },
     "metadata": {
      "needs_background": "light"
     },
     "output_type": "display_data"
    }
   ],
   "source": [
    "df.query('category_grouped == \"midsize\"').set_index('date').resample('W').sum()['is_booked'].plot()"
   ]
  },
  {
   "cell_type": "markdown",
   "metadata": {},
   "source": [
    "## Average price over time\n",
    "\n",
    "> Average prices seem to follow demand (bookings). Though it seems like there is some lag."
   ]
  },
  {
   "cell_type": "code",
   "execution_count": 13,
   "metadata": {},
   "outputs": [
    {
     "data": {
      "text/plain": [
       "<matplotlib.axes._subplots.AxesSubplot at 0x11dbc8320>"
      ]
     },
     "execution_count": 13,
     "metadata": {},
     "output_type": "execute_result"
    },
    {
     "data": {
      "image/png": "[encoded data removed]",
      "text/plain": [
       "<Figure size 432x288 with 1 Axes>"
      ]
     },
     "metadata": {
      "needs_background": "light"
     },
     "output_type": "display_data"
    }
   ],
   "source": [
    "df.set_index('date').resample('W').mean()['price'].plot()"
   ]
  },
  {
   "cell_type": "markdown",
   "metadata": {},
   "source": [
    "## Looking at group statistics\n",
    "\n",
    "1. Average price by vehicle category\n",
    "\n",
    "2. Average demand supply ratio by vehicle category\n",
    "\n",
    "3. Average booking rate by vehicle category\n",
    "\n"
   ]
  },
  {
   "cell_type": "code",
   "execution_count": 14,
   "metadata": {},
   "outputs": [
    {
     "data": {
      "text/plain": [
       "category_grouped\n",
       "compact    34.995249\n",
       "midsize    36.014196\n",
       "suv        57.909753\n",
       "upscale    32.000000\n",
       "van        86.617647\n",
       "Name: price, dtype: float64"
      ]
     },
     "execution_count": 14,
     "metadata": {},
     "output_type": "execute_result"
    }
   ],
   "source": [
    "df.groupby('category_grouped').mean()['price']"
   ]
  },
  {
   "cell_type": "code",
   "execution_count": 15,
   "metadata": {},
   "outputs": [
    {
     "data": {
      "text/plain": [
       "category_grouped\n",
       "compact    8.378004\n",
       "midsize    5.526643\n",
       "suv        5.327081\n",
       "upscale    2.720264\n",
       "van        7.544108\n",
       "Name: demand_supply_ratio, dtype: float64"
      ]
     },
     "execution_count": 15,
     "metadata": {},
     "output_type": "execute_result"
    }
   ],
   "source": [
    "df.groupby('category_grouped').mean()['demand_supply_ratio']"
   ]
  },
  {
   "cell_type": "code",
   "execution_count": 16,
   "metadata": {},
   "outputs": [
    {
     "data": {
      "text/plain": [
       "category_grouped\n",
       "compact    0.667458\n",
       "midsize    0.477918\n",
       "suv        0.532751\n",
       "upscale    0.450000\n",
       "van        0.441176\n",
       "Name: is_booked, dtype: float64"
      ]
     },
     "execution_count": 16,
     "metadata": {},
     "output_type": "execute_result"
    }
   ],
   "source": [
    "df.groupby('category_grouped').mean()['is_booked']"
   ]
  },
  {
   "cell_type": "markdown",
   "metadata": {},
   "source": [
    "## What is the relationship between price and bookings?"
   ]
  },
  {
   "cell_type": "code",
   "execution_count": 17,
   "metadata": {},
   "outputs": [],
   "source": [
    "demand = df.groupby('price').sum()['is_booked'].reset_index()"
   ]
  },
  {
   "cell_type": "code",
   "execution_count": 18,
   "metadata": {},
   "outputs": [
    {
     "data": {
      "text/plain": [
       "count     84.000000\n",
       "mean      61.666667\n",
       "std       30.516965\n",
       "min       10.000000\n",
       "25%       36.750000\n",
       "50%       57.500000\n",
       "75%       83.500000\n",
       "max      134.000000\n",
       "Name: price, dtype: float64"
      ]
     },
     "execution_count": 18,
     "metadata": {},
     "output_type": "execute_result"
    }
   ],
   "source": [
    "demand['price'].describe()"
   ]
  },
  {
   "cell_type": "code",
   "execution_count": 19,
   "metadata": {},
   "outputs": [
    {
     "data": {
      "text/plain": [
       "count     84.000000\n",
       "mean      12.095238\n",
       "std       19.997963\n",
       "min        0.000000\n",
       "25%        1.000000\n",
       "50%        4.000000\n",
       "75%       12.000000\n",
       "max      107.000000\n",
       "Name: is_booked, dtype: float64"
      ]
     },
     "execution_count": 19,
     "metadata": {},
     "output_type": "execute_result"
    }
   ],
   "source": [
    "demand['is_booked'].describe()"
   ]
  },
  {
   "cell_type": "code",
   "execution_count": 20,
   "metadata": {},
   "outputs": [
    {
     "data": {
      "image/png": "[encoded data removed]",
      "text/plain": [
       "<Figure size 432x288 with 1 Axes>"
      ]
     },
     "metadata": {
      "needs_background": "light"
     },
     "output_type": "display_data"
    }
   ],
   "source": [
    "sns.scatterplot(x=\"price\", y=\"is_booked\",\n",
    "                data=demand)\n",
    "plt.title('Bookings and Price')\n",
    "plt.ylabel('Bookings')\n",
    "plt.xlabel('Price')\n",
    "plt.savefig('images/demand_and_price.png')"
   ]
  },
  {
   "cell_type": "markdown",
   "metadata": {},
   "source": [
    "## What are the most common vehicles?\n",
    "\n",
    "most common: 300476"
   ]
  },
  {
   "cell_type": "code",
   "execution_count": 21,
   "metadata": {},
   "outputs": [
    {
     "data": {
      "text/plain": [
       "[(300476, 123),\n",
       " (238765, 115),\n",
       " (302205, 114),\n",
       " (233590, 112),\n",
       " (333483, 111),\n",
       " (298081, 108),\n",
       " (406331, 106),\n",
       " (388325, 103),\n",
       " (326416, 97),\n",
       " (428355, 90)]"
      ]
     },
     "execution_count": 21,
     "metadata": {},
     "output_type": "execute_result"
    }
   ],
   "source": [
    "Counter(df.vehicle_id).most_common()[:10]"
   ]
  },
  {
   "cell_type": "markdown",
   "metadata": {},
   "source": [
    "## What is the total revenue by vehicle?\n",
    "\n",
    "> 0 revenue: Vehicle id 234096 \n",
    "    \n",
    "> Most revenue: Vehicle id 406331\n",
    "\n",
    "I want to look at these two specific vehicles.\n",
    "\n",
    "__Findings__\n",
    "\n",
    "\n",
    "1. 234096 which had zero bookings was midsize vehicle\n",
    "\n",
    "2. 406331 which had the most revenue was a suv\n",
    "\n",
    "The average demand supply ratio between these two vehicles did not differ that much. However difference in variance was significantly large, with corresponding variance in prices for 406331. "
   ]
  },
  {
   "cell_type": "code",
   "execution_count": 22,
   "metadata": {},
   "outputs": [
    {
     "data": {
      "text/plain": [
       "vehicle_id\n",
       "234096       0.0\n",
       "333483      24.0\n",
       "456223      42.0\n",
       "535905     531.0\n",
       "487863     603.0\n",
       "289235     660.0\n",
       "508104     696.0\n",
       "388325     780.0\n",
       "304273     887.0\n",
       "497131    1010.0\n",
       "416371    1055.0\n",
       "448045    1199.0\n",
       "466729    1466.0\n",
       "174075    1558.0\n",
       "233590    1576.0\n",
       "326416    1606.0\n",
       "391074    2036.0\n",
       "426430    2230.0\n",
       "300476    2243.0\n",
       "298081    2507.0\n",
       "302205    3062.0\n",
       "238765    3709.0\n",
       "405192    3744.0\n",
       "428355    4969.0\n",
       "406331    5378.0\n",
       "Name: host_revenue, dtype: float64"
      ]
     },
     "execution_count": 22,
     "metadata": {},
     "output_type": "execute_result"
    }
   ],
   "source": [
    "df.groupby('vehicle_id').sum()['host_revenue'].sort_values()"
   ]
  },
  {
   "cell_type": "code",
   "execution_count": 23,
   "metadata": {
    "scrolled": true
   },
   "outputs": [
    {
     "data": {
      "text/plain": [
       "count    42.000000\n",
       "mean     58.000000\n",
       "std       2.695977\n",
       "min      48.000000\n",
       "25%      58.000000\n",
       "50%      59.000000\n",
       "75%      59.000000\n",
       "max      60.000000\n",
       "Name: price, dtype: float64"
      ]
     },
     "execution_count": 23,
     "metadata": {},
     "output_type": "execute_result"
    }
   ],
   "source": [
    "df.query('vehicle_id == 234096')['price'].describe()"
   ]
  },
  {
   "cell_type": "code",
   "execution_count": 24,
   "metadata": {},
   "outputs": [
    {
     "data": {
      "text/plain": [
       "189    midsize\n",
       "Name: category_grouped, dtype: object"
      ]
     },
     "execution_count": 24,
     "metadata": {},
     "output_type": "execute_result"
    }
   ],
   "source": [
    "df.query('vehicle_id == 234096')['category_grouped'][:1]"
   ]
  },
  {
   "cell_type": "code",
   "execution_count": 25,
   "metadata": {},
   "outputs": [
    {
     "data": {
      "text/plain": [
       "count    42.000000\n",
       "mean      8.749823\n",
       "std       1.949365\n",
       "min       5.161290\n",
       "25%       7.144285\n",
       "50%       8.551348\n",
       "75%      10.608813\n",
       "max      12.331512\n",
       "Name: demand_supply_ratio, dtype: float64"
      ]
     },
     "execution_count": 25,
     "metadata": {},
     "output_type": "execute_result"
    }
   ],
   "source": [
    "df.query('vehicle_id == 234096')['demand_supply_ratio'].describe()"
   ]
  },
  {
   "cell_type": "code",
   "execution_count": 26,
   "metadata": {},
   "outputs": [
    {
     "data": {
      "text/plain": [
       "count    106.000000\n",
       "mean      93.207547\n",
       "std       15.727269\n",
       "min       64.000000\n",
       "25%       83.000000\n",
       "50%       94.500000\n",
       "75%      100.000000\n",
       "max      134.000000\n",
       "Name: price, dtype: float64"
      ]
     },
     "execution_count": 26,
     "metadata": {},
     "output_type": "execute_result"
    }
   ],
   "source": [
    "df.query('vehicle_id == 406331')['price'].describe()"
   ]
  },
  {
   "cell_type": "code",
   "execution_count": 27,
   "metadata": {},
   "outputs": [
    {
     "data": {
      "text/plain": [
       "1275    suv\n",
       "Name: category_grouped, dtype: object"
      ]
     },
     "execution_count": 27,
     "metadata": {},
     "output_type": "execute_result"
    }
   ],
   "source": [
    "df.query('vehicle_id == 406331')['category_grouped'][:1]"
   ]
  },
  {
   "cell_type": "code",
   "execution_count": 28,
   "metadata": {},
   "outputs": [
    {
     "data": {
      "text/plain": [
       "count    106.000000\n",
       "mean       8.949119\n",
       "std        3.746450\n",
       "min        3.972383\n",
       "25%        6.188888\n",
       "50%        7.607939\n",
       "75%       12.317943\n",
       "max       18.467314\n",
       "Name: demand_supply_ratio, dtype: float64"
      ]
     },
     "execution_count": 28,
     "metadata": {},
     "output_type": "execute_result"
    }
   ],
   "source": [
    "df.query('vehicle_id == 406331')['demand_supply_ratio'].describe()"
   ]
  },
  {
   "cell_type": "code",
   "execution_count": 29,
   "metadata": {},
   "outputs": [
    {
     "data": {
      "text/plain": [
       "<matplotlib.axes._subplots.AxesSubplot at 0x11ceba6d8>"
      ]
     },
     "execution_count": 29,
     "metadata": {},
     "output_type": "execute_result"
    },
    {
     "data": {
      "image/png": "[encoded data removed]",
      "text/plain": [
       "<Figure size 432x288 with 1 Axes>"
      ]
     },
     "metadata": {
      "needs_background": "light"
     },
     "output_type": "display_data"
    }
   ],
   "source": [
    "df.query('vehicle_id == 406331').set_index('date')['price'].plot()"
   ]
  },
  {
   "cell_type": "code",
   "execution_count": 30,
   "metadata": {},
   "outputs": [
    {
     "data": {
      "text/plain": [
       "<matplotlib.axes._subplots.AxesSubplot at 0x11cf956a0>"
      ]
     },
     "execution_count": 30,
     "metadata": {},
     "output_type": "execute_result"
    },
    {
     "data": {
      "image/png": "[encoded data removed]",
      "text/plain": [
       "<Figure size 432x288 with 1 Axes>"
      ]
     },
     "metadata": {
      "needs_background": "light"
     },
     "output_type": "display_data"
    }
   ],
   "source": [
    "df.query('vehicle_id == 234096').set_index('date')['price'].plot()"
   ]
  },
  {
   "cell_type": "code",
   "execution_count": 31,
   "metadata": {},
   "outputs": [
    {
     "data": {
      "text/plain": [
       "<matplotlib.axes._subplots.AxesSubplot at 0x11fcfbf98>"
      ]
     },
     "execution_count": 31,
     "metadata": {},
     "output_type": "execute_result"
    },
    {
     "data": {
      "image/png": "[encoded data removed]",
      "text/plain": [
       "<Figure size 432x288 with 1 Axes>"
      ]
     },
     "metadata": {
      "needs_background": "light"
     },
     "output_type": "display_data"
    }
   ],
   "source": [
    "df.query('vehicle_id == 406331').set_index('date')['demand_supply_ratio'].plot()"
   ]
  },
  {
   "cell_type": "code",
   "execution_count": 32,
   "metadata": {},
   "outputs": [
    {
     "data": {
      "text/plain": [
       "<matplotlib.axes._subplots.AxesSubplot at 0x11fdd4eb8>"
      ]
     },
     "execution_count": 32,
     "metadata": {},
     "output_type": "execute_result"
    },
    {
     "data": {
      "image/png": "[encoded data removed]",
      "text/plain": [
       "<Figure size 432x288 with 1 Axes>"
      ]
     },
     "metadata": {
      "needs_background": "light"
     },
     "output_type": "display_data"
    }
   ],
   "source": [
    "df.query('vehicle_id == 234096').set_index('date')['demand_supply_ratio'].plot()"
   ]
  },
  {
   "cell_type": "markdown",
   "metadata": {},
   "source": [
    "<a id=\"modeling\"></a>\n",
    "\n",
    "## Modeling\n",
    "\n",
    "\n",
    "__Questions__\n",
    "\n",
    "The big question here is the ```is_booked``` column. This column seems to represent what happens after a price is set; therefore would not be available at the time of prediction. However it begs the question as to how we would validate whether our suggested price is optimizing host revenue when we look to train a model offline. \n",
    "\n",
    "\n",
    "### __Approach__\n",
    "\n",
    "\n",
    "I am not going to go chase perfect models. However there is perhaps one straightforward way to approach this problem: maximize revenue for host vehicles:\n",
    "\n",
    "1. Predict ```is_booked```. This output can be used to predict the expected value of revenue from a host's vehicle.\n",
    "\n",
    "Another approach is to model demand. However given the data this approach would be difficult. This project states:\n",
    "\n",
    "> demand (count of web and app sessions) over supply (count of live listings) in the vehicle's local market city on a given day\n",
    "\n",
    "However this may not really reflect demand.\n",
    "\n",
    "A data scientist at the Generic Company had the very strong opinion that this problem should be modeled as follows:\n",
    "\n",
    "1. Create a model to predict ```is_booked```.\n",
    "2. Use the probability of ```is_booked``` as the expected value.\n",
    "3. Maximize expected value.\n",
    "\n",
    "Therefore we will try to attempt this approach here. I took my cue from the following paper and paper adaptation:\n",
    "\n",
    "[_Dynamic room pricing model for hotel revenue management systems_](https://www.sciencedirect.com/science/article/pii/S1110866511000375#s0030)\n",
    "\n",
    "[_Dynamically Pricing Hotel Rooms for Maximum Revenue_](https://www.datascience.com/resources/notebooks/dynamically-pricing-hotel-rooms-with-data-science)"
   ]
  },
  {
   "cell_type": "code",
   "execution_count": 200,
   "metadata": {},
   "outputs": [
    {
     "name": "stdout",
     "output_type": "stream",
     "text": [
      "The autoreload extension is already loaded. To reload it, use:\n",
      "  %reload_ext autoreload\n"
     ]
    }
   ],
   "source": [
    "%load_ext autoreload\n",
    "%autoreload 2\n",
    "\n",
    "import pandas as pd\n",
    "import numpy as np\n",
    "from utils.models import Model, Metrics, Scoring, Train, Pricing\n",
    "from utils.utils import Processing"
   ]
  },
  {
   "cell_type": "code",
   "execution_count": 201,
   "metadata": {},
   "outputs": [],
   "source": [
    "df = pd.read_csv('vehicles_booking_history.csv')"
   ]
  },
  {
   "cell_type": "markdown",
   "metadata": {},
   "source": [
    "## Predict ```is_booked``` \n",
    "\n",
    "First we build a model to predict ```is_booked```. I am not concerned with optimizing this model for this exercise, as this is more to show how to approach this problem.\n",
    "\n",
    "\n",
    "According to [_Dynamic room pricing model for hotel revenue management systems_](https://www.sciencedirect.com/science/article/pii/S1110866511000375#s0030)\n",
    "\n",
    "[_Dynamically Pricing Hotel Rooms for Maximum Revenue_](https://www.datascience.com/resources/notebooks/dynamically-pricing-hotel-rooms-with-data-science)\n",
    "\n",
    "We build a function for demand price elasticity, where elasticity of demand is set at -2.0. \n",
    "\n",
    "```python\n",
    "    def price_elasticity(self, price, nominal_demand):\n",
    "        return nominal_demand * ( price / self.nominal_price ) ** (self.elasticity)\n",
    "```\n",
    "\n",
    "We use demand and demand elasticity for this constrained optimization problem given a supply of vehicles. \n",
    "\n",
    "The main assumption here that we know the supply of similar vehicles."
   ]
  },
  {
   "cell_type": "code",
   "execution_count": 202,
   "metadata": {},
   "outputs": [
    {
     "name": "stdout",
     "output_type": "stream",
     "text": [
      "Accuracy Score:0.8571428571428571\n",
      "ROC score: 0.9216909216909217\n",
      "              precision    recall  f1-score   support\n",
      "\n",
      "           0       0.79      0.88      0.84        78\n",
      "           1       0.91      0.84      0.87       111\n",
      "\n",
      "    accuracy                           0.86       189\n",
      "   macro avg       0.85      0.86      0.85       189\n",
      "weighted avg       0.86      0.86      0.86       189\n",
      "\n",
      "Classification report: None\n"
     ]
    },
    {
     "name": "stderr",
     "output_type": "stream",
     "text": [
      "/Users/maitsukiyama/miniconda3/envs/test/lib/python3.7/site-packages/sklearn/ensemble/forest.py:245: FutureWarning: The default value of n_estimators will change from 10 in version 0.20 to 100 in 0.22.\n",
      "  \"10 in version 0.20 to 100 in 0.22.\", FutureWarning)\n"
     ]
    }
   ],
   "source": [
    "Model.baseline_classifier(df)"
   ]
  },
  {
   "cell_type": "markdown",
   "metadata": {},
   "source": [
    "<a id=\"recommendations\"></a>\n",
    "## Recommendation function\n",
    "(Write a function that takes the properties of the listing and returns a price here.)\n",
    "\n",
    "Full workflow:\n",
    "\n",
    "1. Load data\n",
    "\n",
    "2. Train model\n",
    "\n",
    "3. Load model and pipe for feature transormation\n",
    "\n",
    "4. Predict price\n",
    "\n",
    "\n",
    "## API\n",
    "\n",
    "You can also test this as an API by running from the command line:\n",
    "\n",
    "```\n",
    "python api.py\n",
    "```\n",
    "\n",
    "And then test it with a payload from another terminal:\n",
    "\n",
    "```\n",
    "./local_test.sh\n",
    "```\n",
    "\n",
    "## Caveats\n",
    "\n",
    "I did not create tests (I had scoped this out with a time limit in mind)."
   ]
  },
  {
   "cell_type": "code",
   "execution_count": 203,
   "metadata": {},
   "outputs": [],
   "source": [
    "df = pd.read_csv('vehicles_booking_history.csv')"
   ]
  },
  {
   "cell_type": "markdown",
   "metadata": {},
   "source": [
    "__train model__"
   ]
  },
  {
   "cell_type": "code",
   "execution_count": 204,
   "metadata": {},
   "outputs": [
    {
     "name": "stdout",
     "output_type": "stream",
     "text": [
      "Accuracy Score:0.8386243386243386\n",
      "ROC score: 0.9013761467889908\n",
      "              precision    recall  f1-score   support\n",
      "\n",
      "           0       0.80      0.83      0.81       160\n",
      "           1       0.87      0.84      0.86       218\n",
      "\n",
      "    accuracy                           0.84       378\n",
      "   macro avg       0.83      0.84      0.84       378\n",
      "weighted avg       0.84      0.84      0.84       378\n",
      "\n",
      "Classification report: None\n"
     ]
    },
    {
     "name": "stderr",
     "output_type": "stream",
     "text": [
      "/Users/maitsukiyama/miniconda3/envs/test/lib/python3.7/site-packages/sklearn/ensemble/forest.py:245: FutureWarning: The default value of n_estimators will change from 10 in version 0.20 to 100 in 0.22.\n",
      "  \"10 in version 0.20 to 100 in 0.22.\", FutureWarning)\n"
     ]
    }
   ],
   "source": [
    "Train.train_booking_classifier(df)"
   ]
  },
  {
   "cell_type": "code",
   "execution_count": 195,
   "metadata": {},
   "outputs": [],
   "source": [
    "model = Scoring.load_model()\n",
    "pipe = Scoring.load_pipe()"
   ]
  },
  {
   "cell_type": "code",
   "execution_count": 197,
   "metadata": {},
   "outputs": [],
   "source": [
    "payload = {'date':'2018-11-14',\n",
    "           'tmv':19525,\n",
    "           'price': 19,\n",
    "           'category_grouped':'compact',\n",
    "           'demand_supply_ratio':4.70207,\n",
    "           'supply':10}"
   ]
  },
  {
   "cell_type": "code",
   "execution_count": 198,
   "metadata": {},
   "outputs": [],
   "source": [
    "def predict(payload):\n",
    "    \"\"\"\n",
    "    Args: json\n",
    "        - For example if this was an API\n",
    "        \n",
    "        payload = {'date':'2018-11-14',\n",
    "                   'tmv':19525,\n",
    "                   'category_grouped':'compact',\n",
    "                   'demand_supply_ratio':4.70207,\n",
    "                   'supply':30}\n",
    "    \n",
    "    \"\"\"\n",
    "    demand, supply, features = Processing.clean_payload(payload)\n",
    "    features = pipe.transform(features)\n",
    "    score = model.predict_proba(features)[:,1]\n",
    "    pricing_model = Pricing(score[0])\n",
    "    return pricing_model.predict(demand, supply)\n",
    "    "
   ]
  },
  {
   "cell_type": "code",
   "execution_count": 199,
   "metadata": {},
   "outputs": [
    {
     "data": {
      "text/plain": [
       "38.0"
      ]
     },
     "execution_count": 199,
     "metadata": {},
     "output_type": "execute_result"
    }
   ],
   "source": [
    "predict(payload)"
   ]
  },
  {
   "cell_type": "markdown",
   "metadata": {},
   "source": [
    "<a id=\"business\"></a>\n",
    "\n",
    "## Measuring business impact\n",
    "(Tell us how you'd gauge the success/business impact of the suggested price.)\n",
    "\n",
    "\n",
    "I think there are a few moving parts here. First I think ultimately improved profit would be what we want when we try to optimize pricing. However maximizing revenue should be balanced against optimizig revenue for hosts and optimizing fairness for customers. \n",
    "\n",
    "If we get increased aggregate utilization of hosts vehicles, that would be success. There are some vehicles in this sample of data which had very low or no utlilization. However, I could also see success being increased per vehicle revenue; which may not result in increased utliization.\n",
    "\n",
    "__Having written all this, perhaps a simple metric to track is rate of bookings.__\n",
    "\n",
    "In other words, the effect size of introducing a new pricing suggestion model on booking rate.\n",
    "\n",
    "__Caveats__\n",
    "\n",
    "There are a few things I am unsure of:\n",
    "\n",
    "1. Constraints on supply and price\n",
    "\n",
    "For example is there some floor price for vehicles?\n",
    "\n",
    "2. Modeling demand aggregation by location and time\n",
    "\n",
    "3. How often hosts take our suggestions\n",
    "\n",
    "This sample of data does not give me a good idea of demand. I guess the question would be: do we know what actual demand looks like? Depending on the answer to that, that will influence how we test our prices. \n",
    "\n",
    "\n",
    "Thinking about this, while this sounds simple I think there are a few confounding issues. First, hosts do not have to take our suggestions. Which means you have the following: \n",
    "\n",
    "1. Bookings on instances when hosts take our suggestions in the original model.\n",
    "\n",
    "2. Bookings on instances when hosts do not take our suggestions in the original model.\n",
    "\n",
    "3. Bookings on instances when hosts take our suggestions in the new model.\n",
    "\n",
    "4. Bookings on instances when hosts do not take our suggestions in the new model.\n",
    "\n",
    "While you could serve the treatment to random populations, the hosts have a choice in whether to take the treatment; which may not be random; which brings up the question of external validity.\n",
    "\n",
    "1. Measuring adoption of out price suggestions\n",
    "\n",
    "2. Using price suggestions to influence hosts to opt into automated pricing\n",
    "\n",
    "__Additional Caveats__\n",
    "\n",
    "I think something that would be difficult to deal with is time trends. For example if we had an experiment that sought to test our current pricing model against a new pricing model, success measured by improvements in bookings. I assume we are not running this single experiment through the entire year; which means what we see at that point in time does not represent what would happen trhoughout the entire year.\n",
    "\n",
    "\n",
    "This brings me back to the issue of demand. I can imagine two avenues, price learning in which we deploy prices to discover what demand would be and then using that to create models to optimize price."
   ]
  }
 ],
 "metadata": {
  "kernelspec": {
   "display_name": "Python 3",
   "language": "python",
   "name": "python3"
  },
  "language_info": {
   "codemirror_mode": {
    "name": "ipython",
    "version": 3
   },
   "file_extension": ".py",
   "mimetype": "text/x-python",
   "name": "python",
   "nbconvert_exporter": "python",
   "pygments_lexer": "ipython3",
   "version": "3.7.3"
  }
 },
 "nbformat": 4,
 "nbformat_minor": 2
}
