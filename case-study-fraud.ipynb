{
 "cells": [
  {
   "cell_type": "markdown",
   "metadata": {},
   "source": [
    "# Fraud Detection\n",
    "\n",
    "\n",
    "### Design Doc\n",
    "\n",
    "__Scope__\n",
    "\n",
    "The idea here is to follow this design document to build our initial baseline model and reuse as much code as possible and do so relatively quickly.\n",
    "\n",
    "I first tested this approach with this data: https://www.kaggle.com/mlg-ulb/creditcardfraud\n",
    "\n",
    ">The datasets contains transactions made by credit cards in September 2013 by european cardholders. This dataset presents transactions that occurred in two days, where we have 492 frauds out of 284,807 transactions. The dataset is highly unbalanced, the positive class (frauds) account for 0.172% of all transactions.\n",
    "\n",
    ">It contains only numerical input variables which are the result of a PCA transformation. Unfortunately, due to confidentiality issues, we cannot provide the original features and more background information about the data. Features V1, V2, ... V28 are the principal components obtained with PCA, the only features which have not been transformed with PCA are 'Time' and 'Amount'. Feature 'Time' contains the seconds elapsed between each transaction and the first transaction in the dataset. The feature 'Amount' is the transaction Amount, this feature can be used for example-dependant cost-senstive learning. Feature 'Class' is the response variable and it takes value 1 in case of fraud and 0 otherwise.\n",
    "\n",
    "I then tested this approach with a more difficult dataset, which is available here: https://github.com/CapitalOneRecruiting/DS\n",
    "\n",
    "__Goal__\n",
    "\n",
    "Predict ```Class``` label, which represents fraudulent activity.\n",
    "\n",
    "The ```Class``` label is relatively rare, which means our dataset is imbalanced. \n",
    "\n",
    "    \n",
    "__Baseline Feature Engineering__\n",
    "\n",
    "1. Remove features that entirely null.\n",
    "2. Deal with missing values.\n",
    "3. Time based features: hour, day, etc.. (if any).\n",
    "4. Categorical features should be one-hot encoded (if any).\n",
    "5. Dollar features should be logged (if any).\n",
    "6. Non monetary continuous features scaled.\n",
    "7. Perhaps some row level statistics.\n",
    "8. Upsampling.\n",
    "\n",
    "Things to be wary of:\n",
    "\n",
    "    - leakage\n",
    "    - features that are in our test set (or production) that may not be in our training data\n",
    "    - When oversampling, do not oversample test set.\n",
    "\n",
    "__Baseline Model and Error Metric__\n",
    "\n",
    "1. Tree based model, XGboost. The decision to use XGBoost over other tree implementations comes down to speed, flexibility, and performance. XGBoost allows for custom optimization functions and parallelized for speed. \n",
    "\n",
    "2. I think we will be looking at the precision and recall on our two classes as well as AUC. XGBoost allows for the following evaluation metrics: log loss, auc, and auc pr (precision and recall).\n",
    "\n",
    "    - Binary classification problem\n",
    "    - Imbalanced data\n",
    "    - True positive and/or False positive rate may be important to judge performance\n",
    "\n",
    "__Project Structure__\n",
    "\n",
    "```\n",
    "\\utils\n",
    "- utils.py\n",
    "- models.py\n",
    "- pipeline.py\n",
    "```\n",
    "\n",
    "__Steps__\n",
    "\n",
    "1. Clean data.\n",
    "2. Pass clean data through Pipeline.\n",
    "3. Train and evaluate baseline model.\n",
    "\n",
    "Repeat process but with random oversampling.\n",
    "\n",
    "\n",
    "## Dataset A\n",
    "______\n",
    "\n",
    "__Processing__\n",
    "\n",
    "Cleaning and feature engineering with dataset A is pretty straightforward, probably because the features themselves are derived from a PCA transformation.\n",
    "\n",
    "```python\n",
    "class Processing(object):\n",
    "    \"\"\"\n",
    "    Contains:\n",
    "        - classmethods for constructing different feature types (One Hot Encode, Log, Scale)\n",
    "    \"\"\"\n",
    "\n",
    "\n",
    "    dollar_features = ['Amount']\n",
    "    time_features = ['Time']\n",
    "\n",
    "    @classmethod\n",
    "    def original_constructor(cls, feature):\n",
    "        return Pipeline([('selector', FeatureSelector(column=feature))\n",
    "                         ])\n",
    "\n",
    "    @classmethod\n",
    "    def categorical_constructor(cls, feature):\n",
    "        return Pipeline([('selector', FeatureSelector(column=feature)),\n",
    "                         ('standard', OneHotEncoder()),\n",
    "                        ])\n",
    "\n",
    "    @classmethod\n",
    "    def scale_constructor(cls, feature):\n",
    "        return Pipeline([('selector', FeatureSelector(column=feature)),\n",
    "                         ('standard', StandardScaler())\n",
    "                         ])\n",
    "\n",
    "    @classmethod\n",
    "    def log_constructor(cls, feature):\n",
    "        return Pipeline([('selector', LogTransformer(column=feature))\n",
    "                         ])\n",
    "\n",
    "    @classmethod\n",
    "    def clean(cls, data):\n",
    "        \"\"\"\n",
    "        Args: data\n",
    "        Returns: cleaned data\n",
    "        \"\"\"\n",
    "\n",
    "        for col in cls.dollar_features:\n",
    "            data.loc[data[col] == 0, col] = 0.01\n",
    "\n",
    "        return data\n",
    "\n",
    "    @classmethod\n",
    "    def features(cls, data):\n",
    "        \"\"\"\n",
    "        Args: data\n",
    "        Returns: Scikit-Learn pipeline of baseline feature transformations\n",
    "        \"\"\"\n",
    "        base_features = data.columns\n",
    "        base_features = [b for b in base_features if b not in ['Time','Amount','Class']]\n",
    "\n",
    "        # build categorical feature dicionary\n",
    "        feature_pipe = dict()\n",
    "\n",
    "        # build continuous log features\n",
    "        for col in cls.dollar_features:\n",
    "            feature_pipe[col] = cls.log_constructor(col)\n",
    "\n",
    "        # build continuous scale features\n",
    "        for col in cls.time_features:\n",
    "            feature_pipe[col] = cls.scale_constructor(col)\n",
    "\n",
    "        # row stats\n",
    "        for col in base_features:\n",
    "            feature_pipe[col] = cls.original_constructor(col)\n",
    "\n",
    "        feature_list = []\n",
    "        for key in feature_pipe.keys():\n",
    "            feature_list.append((key, feature_pipe[key]))\n",
    "\n",
    "        features = FeatureUnion(feature_list)\n",
    "        pipe = Pipeline([('features', features)])\n",
    "        return pipe\n",
    "```\n",
    "-----\n",
    "\n",
    "__First Baseline__\n",
    "\n",
    "\n",
    "The initial model seems to perform relatively well in terms of precision and precision for the fraud class:\n",
    "\n",
    "```\n",
    "ROC score: 0.9521513784678161\n",
    "\n",
    "              precision    recall  f1-score   support\n",
    "\n",
    "           0       1.00      1.00      1.00     28429\n",
    "           1       0.90      0.52      0.66        52\n",
    "\n",
    "    accuracy                           1.00     28481\n",
    "   macro avg       0.95      0.76      0.83     28481\n",
    "weighted avg       1.00      1.00      1.00     28481\n",
    "\n",
    "```\n",
    "\n",
    "To help improve the recall of our model we will use random oversampling with the Python package ```imbalanced-learn,``` I referred to this [documentation](https://imbalanced-learn.readthedocs.io/en/stable/over_sampling.html#random-over-sampler).\n",
    "\n",
    "\n",
    "__Upsampling__\n",
    "\n",
    "By upsampling our data our original baseline model performs better:\n",
    "\n",
    "```\n",
    "ROC score: 0.9791731493031223\n",
    "\n",
    "              precision    recall  f1-score   support\n",
    "\n",
    "           0       1.00      1.00      1.00     28429\n",
    "           1       0.76      0.85      0.80        52\n",
    "\n",
    "    accuracy                           1.00     28481\n",
    "   macro avg       0.88      0.92      0.90     28481\n",
    "weighted avg       1.00      1.00      1.00     28481\n",
    "\n",
    "```\n",
    "\n",
    "We increased recall on the fraud class label from 0.52 to 0.85. However Precision took a hit. However if we adjust the threshold of prediction we can concentrate on the cases we are most confident in. For example adjusting the prediction threshold to 0.8 we get 90% of cases. On the other hand we only capture a small percentage of overall fraud cases. \n",
    "\n",
    "\n",
    "If we adjust the prediction threshold we can focus on those case we have the most confidence in:\n",
    "\n",
    "```\n",
    "[(0.1, 0.0018258426966292136), \n",
    " (0.2, 0.0344311377245509),\n",
    " (0.3, 0.20087336244541484),\n",
    " (0.4, 0.5056179775280899),\n",
    " (0.5, 0.7586206896551724),\n",
    " (0.6, 0.8148148148148148),\n",
    " (0.7, 0.86),\n",
    " (0.8, 0.8913043478260869),\n",
    " (0.9, 1)]\n",
    "\n",
    "```\n",
    "\n",
    "## Dataset B\n",
    "-------\n",
    "\n",
    "__Processing__\n",
    "\n",
    "This dataset is in a non-valid json format, i.e. an array of json which is around 500mb. I would prefer to have this data in csv format. We can do this the slow and inefficient way by reading in the invalid json as a list of dictionaries, create a Pandas dataframe, then save to csv. This loads everything into memory. My wimpy Macbook Air, with very little memory has begged me not to do this. We can create a generator and iteratively write to file. This takes around a quarter of the time.\n",
    "\n",
    "The data is much more complex:\n",
    "\n",
    "```\n",
    "accountNumber                 int64\n",
    "accountOpenDate              object\n",
    "acqCountry                   object\n",
    "availableMoney              float64\n",
    "cardCVV                       int64\n",
    "cardLast4Digits               int64\n",
    "cardPresent                    bool\n",
    "creditLimit                 float64\n",
    "currentBalance              float64\n",
    "currentExpDate               object\n",
    "customerId                    int64\n",
    "dateOfLastAddressChange      object\n",
    "echoBuffer                  float64\n",
    "enteredCVV                    int64\n",
    "expirationDateKeyInMatch       bool\n",
    "isFraud                        bool\n",
    "merchantCategoryCode         object\n",
    "merchantCity                float64\n",
    "merchantCountryCode          object\n",
    "merchantName                 object\n",
    "merchantState               float64\n",
    "merchantZip                 float64\n",
    "posConditionCode            float64\n",
    "posEntryMode                float64\n",
    "posOnPremises               float64\n",
    "recurringAuthInd            float64\n",
    "transactionAmount           float64\n",
    "transactionDateTime          object\n",
    "transactionType              object\n",
    "```\n",
    "\n",
    "\n",
    "----\n",
    "\n",
    "\n",
    "\n",
    "__First Baseline__\n",
    "\n",
    "This model performs very poorly, even with when building new features. Recall is 0.\n",
    "\n",
    "```\n",
    "ROC score: 0.7521769107152564\n",
    "\n",
    "              precision    recall  f1-score   support\n",
    "\n",
    "       False       0.98      1.00      0.99     63033\n",
    "        True       0.00      0.00      0.00      1159\n",
    "\n",
    "    accuracy                           0.98     64192\n",
    "   macro avg       0.49      0.50      0.50     64192\n",
    "weighted avg       0.96      0.98      0.97     64192\n",
    "```\n",
    "\n",
    "\n",
    "__Upsampling__\n",
    "\n",
    "\n",
    "```\n",
    "ROC score: 0.76435274388984\n",
    "\n",
    "              precision    recall  f1-score   support\n",
    "\n",
    "       False       0.99      0.72      0.83     63033\n",
    "        True       0.04      0.67      0.08      1159\n",
    "\n",
    "    accuracy                           0.72     64192\n",
    "   macro avg       0.52      0.69      0.46     64192\n",
    "weighted avg       0.97      0.72      0.82     64192\n",
    "```\n",
    "\n",
    "While this model is not that great we have made progress, recall increased from 0 to 0.67. We can adjust our threshold. For example if we make our prediction threshold probability 0.9, we catch 1:4 of fraud cases. However this represents a small fraction of overall fraud cases.\n",
    "\n",
    "```\n",
    "[(0.1, 0.020287212217916573),\n",
    " (0.2, 0.02280499403063599), \n",
    " (0.3, 0.027410849475278023), \n",
    " (0.4, 0.033790348699125554), \n",
    " (0.5, 0.041666666666666664), \n",
    " (0.6, 0.05222050676596131), \n",
    " (0.7, 0.0678139725466093), \n",
    " (0.8, 0.08691674290942361), \n",
    " (0.9, 0.25)]\n",
    "```\n",
    "-----\n",
    "\n",
    "\n",
    "\n",
    "\n",
    "__Additional Issues__\n",
    "\n",
    "While we can adjust our prediction threshold to caputure the majority of cases for small percentage of fraud cases, the question I ask myself is: Are these the most risky cases, i.e. most costly?\n",
    "\n",
    "\n",
    "__Things that I did not do, but if I had time I would have__\n",
    "\n",
    "1. Synthetic Minority Oversampling Technique (SMOTE), this method seems to take a long time to fit; therefore I decided not to pursue it.\n",
    "\n",
    "https://imbalanced-learn.readthedocs.io/en/stable/generated/imblearn.over_sampling.SMOTE.html\n",
    "\n",
    "```python\n",
    "sm = SMOTE(random_state=42)\n",
    "X_res, y_res = sm.fit_resample(X, y)\n",
    "```\n",
    "\n",
    "2. Hyperparameter optimization. I think the important issue was resampling the data. I know I could have spent some significant time on hyperparameter optimization.\n",
    "\n",
    "3. Cross-validation. I think there would have been additional complexity combining cross-validation with random oversampling and by extension time spent on doing just that; therefore I kept things simple. However I think cross-validation would improve the performance here since we are using a tree based approach, which has issues with variance."
   ]
  },
  {
   "cell_type": "code",
   "execution_count": 1,
   "metadata": {},
   "outputs": [
    {
     "name": "stdout",
     "output_type": "stream",
     "text": [
      "Populating the interactive namespace from numpy and matplotlib\n"
     ]
    }
   ],
   "source": [
    "%load_ext autoreload\n",
    "%autoreload 2\n",
    "\n",
    "import time\n",
    "import pandas as pd\n",
    "import numpy as np\n",
    "import seaborn as sns\n",
    "import matplotlib.pyplot as plt\n",
    "import warnings\n",
    "\n",
    "from collections import Counter\n",
    "from utils.models import Processing, Models, Metrics\n",
    "from utils.utils import IO\n",
    "\n",
    "sns.set(style=\"dark\")\n",
    "warnings.filterwarnings('ignore')\n",
    "\n",
    "%pylab inline"
   ]
  },
  {
   "cell_type": "markdown",
   "metadata": {},
   "source": [
    "## Dataset A"
   ]
  },
  {
   "cell_type": "code",
   "execution_count": 2,
   "metadata": {},
   "outputs": [],
   "source": [
    "df = pd.read_csv('data/creditcard.csv')"
   ]
  },
  {
   "cell_type": "code",
   "execution_count": 3,
   "metadata": {},
   "outputs": [
    {
     "data": {
      "text/plain": [
       "(284807, 31)"
      ]
     },
     "execution_count": 3,
     "metadata": {},
     "output_type": "execute_result"
    }
   ],
   "source": [
    "df.shape"
   ]
  },
  {
   "cell_type": "code",
   "execution_count": 4,
   "metadata": {},
   "outputs": [
    {
     "data": {
      "text/plain": [
       "Time      float64\n",
       "V1        float64\n",
       "V2        float64\n",
       "V3        float64\n",
       "V4        float64\n",
       "V5        float64\n",
       "V6        float64\n",
       "V7        float64\n",
       "V8        float64\n",
       "V9        float64\n",
       "V10       float64\n",
       "V11       float64\n",
       "V12       float64\n",
       "V13       float64\n",
       "V14       float64\n",
       "V15       float64\n",
       "V16       float64\n",
       "V17       float64\n",
       "V18       float64\n",
       "V19       float64\n",
       "V20       float64\n",
       "V21       float64\n",
       "V22       float64\n",
       "V23       float64\n",
       "V24       float64\n",
       "V25       float64\n",
       "V26       float64\n",
       "V27       float64\n",
       "V28       float64\n",
       "Amount    float64\n",
       "Class       int64\n",
       "dtype: object"
      ]
     },
     "execution_count": 4,
     "metadata": {},
     "output_type": "execute_result"
    }
   ],
   "source": [
    "df.dtypes"
   ]
  },
  {
   "cell_type": "code",
   "execution_count": 5,
   "metadata": {},
   "outputs": [
    {
     "data": {
      "text/plain": [
       "count    284807.000000\n",
       "mean          0.001727\n",
       "std           0.041527\n",
       "min           0.000000\n",
       "25%           0.000000\n",
       "50%           0.000000\n",
       "75%           0.000000\n",
       "max           1.000000\n",
       "Name: Class, dtype: float64"
      ]
     },
     "execution_count": 5,
     "metadata": {},
     "output_type": "execute_result"
    }
   ],
   "source": [
    "df['Class'].describe()"
   ]
  },
  {
   "cell_type": "code",
   "execution_count": 6,
   "metadata": {},
   "outputs": [
    {
     "data": {
      "text/plain": [
       "Counter({0: 284315, 1: 492})"
      ]
     },
     "execution_count": 6,
     "metadata": {},
     "output_type": "execute_result"
    }
   ],
   "source": [
    "Counter(df['Class'])"
   ]
  },
  {
   "cell_type": "code",
   "execution_count": 7,
   "metadata": {},
   "outputs": [
    {
     "data": {
      "text/plain": [
       "Text(0.5, 0, 'Amount')"
      ]
     },
     "execution_count": 7,
     "metadata": {},
     "output_type": "execute_result"
    },
    {
     "data": {
      "image/png": "[encoded data removed]",
      "text/plain": [
       "<Figure size 864x576 with 1 Axes>"
      ]
     },
     "metadata": {
      "needs_background": "light"
     },
     "output_type": "display_data"
    }
   ],
   "source": [
    "df['Amount'].hist(bins = 100, figsize=(12, 8))\n",
    "plt.title('Transaction Amount Distribution')\n",
    "plt.ylabel('Frequency')\n",
    "plt.xlabel('Amount')"
   ]
  },
  {
   "cell_type": "code",
   "execution_count": 8,
   "metadata": {},
   "outputs": [
    {
     "data": {
      "text/plain": [
       "Time      0\n",
       "V1        0\n",
       "V2        0\n",
       "V3        0\n",
       "V4        0\n",
       "V5        0\n",
       "V6        0\n",
       "V7        0\n",
       "V8        0\n",
       "V9        0\n",
       "V10       0\n",
       "V11       0\n",
       "V12       0\n",
       "V13       0\n",
       "V14       0\n",
       "V15       0\n",
       "V16       0\n",
       "V17       0\n",
       "V18       0\n",
       "V19       0\n",
       "V20       0\n",
       "V21       0\n",
       "V22       0\n",
       "V23       0\n",
       "V24       0\n",
       "V25       0\n",
       "V26       0\n",
       "V27       0\n",
       "V28       0\n",
       "Amount    0\n",
       "Class     0\n",
       "dtype: int64"
      ]
     },
     "execution_count": 8,
     "metadata": {},
     "output_type": "execute_result"
    }
   ],
   "source": [
    "df.isnull().sum()"
   ]
  },
  {
   "cell_type": "code",
   "execution_count": 9,
   "metadata": {},
   "outputs": [],
   "source": [
    "# clean train\n",
    "train = Processing.clean(df)"
   ]
  },
  {
   "cell_type": "code",
   "execution_count": 10,
   "metadata": {},
   "outputs": [],
   "source": [
    "# create feature and target \n",
    "X = train.drop(['Class'], axis = 1)\n",
    "y = train['Class']"
   ]
  },
  {
   "cell_type": "code",
   "execution_count": 11,
   "metadata": {},
   "outputs": [],
   "source": [
    "pipe = Processing.features(X)"
   ]
  },
  {
   "cell_type": "code",
   "execution_count": 12,
   "metadata": {},
   "outputs": [],
   "source": [
    "pipe.fit(X)\n",
    "X = pipe.transform(X)"
   ]
  },
  {
   "cell_type": "code",
   "execution_count": 13,
   "metadata": {},
   "outputs": [
    {
     "name": "stdout",
     "output_type": "stream",
     "text": [
      "[0]\ttrain-auc:0.877393\tvalid-auc:0.924628\n",
      "Multiple eval metrics have been passed: 'valid-auc' will be used for early stopping.\n",
      "\n",
      "Will train until valid-auc hasn't improved in 10 rounds.\n",
      "[1]\ttrain-auc:0.888379\tvalid-auc:0.924586\n",
      "[2]\ttrain-auc:0.900588\tvalid-auc:0.92446\n",
      "[3]\ttrain-auc:0.900526\tvalid-auc:0.924418\n",
      "[4]\ttrain-auc:0.918312\tvalid-auc:0.936755\n",
      "[5]\ttrain-auc:0.918083\tvalid-auc:0.936622\n",
      "[6]\ttrain-auc:0.922425\tvalid-auc:0.942932\n",
      "[7]\ttrain-auc:0.951965\tvalid-auc:0.945401\n",
      "[8]\ttrain-auc:0.951844\tvalid-auc:0.945301\n",
      "[9]\ttrain-auc:0.95181\tvalid-auc:0.945292\n",
      "[10]\ttrain-auc:0.951271\tvalid-auc:0.944774\n",
      "[11]\ttrain-auc:0.95129\tvalid-auc:0.944797\n",
      "[12]\ttrain-auc:0.952377\tvalid-auc:0.94455\n",
      "[13]\ttrain-auc:0.952432\tvalid-auc:0.951237\n",
      "[14]\ttrain-auc:0.952465\tvalid-auc:0.951254\n",
      "[15]\ttrain-auc:0.952338\tvalid-auc:0.95116\n",
      "[16]\ttrain-auc:0.953736\tvalid-auc:0.951134\n",
      "[17]\ttrain-auc:0.953752\tvalid-auc:0.951078\n",
      "[18]\ttrain-auc:0.953564\tvalid-auc:0.950983\n",
      "[19]\ttrain-auc:0.953592\tvalid-auc:0.950945\n",
      "[20]\ttrain-auc:0.953618\tvalid-auc:0.950957\n",
      "[21]\ttrain-auc:0.95365\tvalid-auc:0.950971\n",
      "[22]\ttrain-auc:0.954652\tvalid-auc:0.950489\n",
      "[23]\ttrain-auc:0.95548\tvalid-auc:0.949823\n",
      "[24]\ttrain-auc:0.955418\tvalid-auc:0.949731\n",
      "Stopping. Best iteration:\n",
      "[14]\ttrain-auc:0.952465\tvalid-auc:0.951254\n",
      "\n",
      "ROC score: 0.9521513784678161\n",
      "              precision    recall  f1-score   support\n",
      "\n",
      "           0       1.00      1.00      1.00     28429\n",
      "           1       0.90      0.52      0.66        52\n",
      "\n",
      "    accuracy                           1.00     28481\n",
      "   macro avg       0.95      0.76      0.83     28481\n",
      "weighted avg       1.00      1.00      1.00     28481\n",
      "\n",
      "Classification report: None\n",
      "[(0.1, 0.5789473684210527), (0.2, 0.8695652173913043), (0.3, 0.9069767441860465), (0.4, 0.9230769230769231), (0.5, 0.9), (0.6, 0.8888888888888888), (0.7, 0.88), (0.8, 1), (0.9, 1)]\n"
     ]
    },
    {
     "data": {
      "text/plain": [
       "<xgboost.core.Booster at 0x120910e10>"
      ]
     },
     "execution_count": 13,
     "metadata": {},
     "output_type": "execute_result"
    }
   ],
   "source": [
    "Models.baseline(X, y)"
   ]
  },
  {
   "cell_type": "code",
   "execution_count": 14,
   "metadata": {},
   "outputs": [
    {
     "name": "stdout",
     "output_type": "stream",
     "text": [
      "[0]\ttrain-auc:0.993238\tvalid-auc:0.945229\n",
      "Multiple eval metrics have been passed: 'valid-auc' will be used for early stopping.\n",
      "\n",
      "Will train until valid-auc hasn't improved in 10 rounds.\n",
      "[1]\ttrain-auc:0.994024\tvalid-auc:0.947909\n",
      "[2]\ttrain-auc:0.998402\tvalid-auc:0.962996\n",
      "[3]\ttrain-auc:0.99925\tvalid-auc:0.977756\n",
      "[4]\ttrain-auc:0.999472\tvalid-auc:0.987629\n",
      "[5]\ttrain-auc:0.999727\tvalid-auc:0.986892\n",
      "[6]\ttrain-auc:0.999763\tvalid-auc:0.986536\n",
      "[7]\ttrain-auc:0.99978\tvalid-auc:0.984592\n",
      "[8]\ttrain-auc:0.99979\tvalid-auc:0.98276\n",
      "[9]\ttrain-auc:0.999822\tvalid-auc:0.983861\n",
      "[10]\ttrain-auc:0.999835\tvalid-auc:0.985182\n",
      "[11]\ttrain-auc:0.999844\tvalid-auc:0.983808\n",
      "[12]\ttrain-auc:0.999847\tvalid-auc:0.984058\n",
      "[13]\ttrain-auc:0.999848\tvalid-auc:0.984244\n",
      "[14]\ttrain-auc:0.999849\tvalid-auc:0.982994\n",
      "Stopping. Best iteration:\n",
      "[4]\ttrain-auc:0.999472\tvalid-auc:0.987629\n",
      "\n",
      "ROC score: 0.9791731493031223\n",
      "              precision    recall  f1-score   support\n",
      "\n",
      "           0       1.00      1.00      1.00     28429\n",
      "           1       0.76      0.85      0.80        52\n",
      "\n",
      "    accuracy                           1.00     28481\n",
      "   macro avg       0.88      0.92      0.90     28481\n",
      "weighted avg       1.00      1.00      1.00     28481\n",
      "\n",
      "Classification report: None\n",
      "[(0.1, 0.0018258426966292136), (0.2, 0.0344311377245509), (0.3, 0.20087336244541484), (0.4, 0.5056179775280899), (0.5, 0.7586206896551724), (0.6, 0.8148148148148148), (0.7, 0.86), (0.8, 0.8913043478260869), (0.9, 1)]\n"
     ]
    },
    {
     "data": {
      "text/plain": [
       "<xgboost.core.Booster at 0x1209065f8>"
      ]
     },
     "execution_count": 14,
     "metadata": {},
     "output_type": "execute_result"
    }
   ],
   "source": [
    "Models.resample_baseline(X, y)"
   ]
  },
  {
   "cell_type": "markdown",
   "metadata": {},
   "source": [
    "## Dataset B"
   ]
  },
  {
   "cell_type": "code",
   "execution_count": 15,
   "metadata": {},
   "outputs": [],
   "source": [
    "IO.write_csv('data/transactions.txt', 'data/processed_transactions.csv')"
   ]
  },
  {
   "cell_type": "code",
   "execution_count": 16,
   "metadata": {},
   "outputs": [],
   "source": [
    "df2 = pd.read_csv('data/processed_transactions.csv')"
   ]
  },
  {
   "cell_type": "code",
   "execution_count": 17,
   "metadata": {},
   "outputs": [
    {
     "data": {
      "text/plain": [
       "(641914, 29)"
      ]
     },
     "execution_count": 17,
     "metadata": {},
     "output_type": "execute_result"
    }
   ],
   "source": [
    "df2.shape"
   ]
  },
  {
   "cell_type": "code",
   "execution_count": 18,
   "metadata": {},
   "outputs": [
    {
     "data": {
      "text/html": [
       "<div>\n",
       "<style scoped>\n",
       "    .dataframe tbody tr th:only-of-type {\n",
       "        vertical-align: middle;\n",
       "    }\n",
       "\n",
       "    .dataframe tbody tr th {\n",
       "        vertical-align: top;\n",
       "    }\n",
       "\n",
       "    .dataframe thead th {\n",
       "        text-align: right;\n",
       "    }\n",
       "</style>\n",
       "<table border=\"1\" class=\"dataframe\">\n",
       "  <thead>\n",
       "    <tr style=\"text-align: right;\">\n",
       "      <th></th>\n",
       "      <th>accountNumber</th>\n",
       "      <th>accountOpenDate</th>\n",
       "      <th>acqCountry</th>\n",
       "      <th>availableMoney</th>\n",
       "      <th>cardCVV</th>\n",
       "      <th>cardLast4Digits</th>\n",
       "      <th>cardPresent</th>\n",
       "      <th>creditLimit</th>\n",
       "      <th>currentBalance</th>\n",
       "      <th>currentExpDate</th>\n",
       "      <th>...</th>\n",
       "      <th>merchantName</th>\n",
       "      <th>merchantState</th>\n",
       "      <th>merchantZip</th>\n",
       "      <th>posConditionCode</th>\n",
       "      <th>posEntryMode</th>\n",
       "      <th>posOnPremises</th>\n",
       "      <th>recurringAuthInd</th>\n",
       "      <th>transactionAmount</th>\n",
       "      <th>transactionDateTime</th>\n",
       "      <th>transactionType</th>\n",
       "    </tr>\n",
       "  </thead>\n",
       "  <tbody>\n",
       "    <tr>\n",
       "      <th>0</th>\n",
       "      <td>733493772</td>\n",
       "      <td>2014-08-03</td>\n",
       "      <td>US</td>\n",
       "      <td>5000.00</td>\n",
       "      <td>492</td>\n",
       "      <td>9184</td>\n",
       "      <td>False</td>\n",
       "      <td>5000.0</td>\n",
       "      <td>0.00</td>\n",
       "      <td>04/2020</td>\n",
       "      <td>...</td>\n",
       "      <td>Lyft</td>\n",
       "      <td>NaN</td>\n",
       "      <td>NaN</td>\n",
       "      <td>1.0</td>\n",
       "      <td>5.0</td>\n",
       "      <td>NaN</td>\n",
       "      <td>NaN</td>\n",
       "      <td>111.33</td>\n",
       "      <td>2016-01-08T19:04:50</td>\n",
       "      <td>PURCHASE</td>\n",
       "    </tr>\n",
       "    <tr>\n",
       "      <th>1</th>\n",
       "      <td>733493772</td>\n",
       "      <td>2014-08-03</td>\n",
       "      <td>US</td>\n",
       "      <td>4888.67</td>\n",
       "      <td>492</td>\n",
       "      <td>9184</td>\n",
       "      <td>False</td>\n",
       "      <td>5000.0</td>\n",
       "      <td>111.33</td>\n",
       "      <td>06/2023</td>\n",
       "      <td>...</td>\n",
       "      <td>Uber</td>\n",
       "      <td>NaN</td>\n",
       "      <td>NaN</td>\n",
       "      <td>1.0</td>\n",
       "      <td>9.0</td>\n",
       "      <td>NaN</td>\n",
       "      <td>NaN</td>\n",
       "      <td>24.75</td>\n",
       "      <td>2016-01-09T22:32:39</td>\n",
       "      <td>PURCHASE</td>\n",
       "    </tr>\n",
       "    <tr>\n",
       "      <th>2</th>\n",
       "      <td>733493772</td>\n",
       "      <td>2014-08-03</td>\n",
       "      <td>US</td>\n",
       "      <td>4863.92</td>\n",
       "      <td>492</td>\n",
       "      <td>9184</td>\n",
       "      <td>False</td>\n",
       "      <td>5000.0</td>\n",
       "      <td>136.08</td>\n",
       "      <td>12/2027</td>\n",
       "      <td>...</td>\n",
       "      <td>Lyft</td>\n",
       "      <td>NaN</td>\n",
       "      <td>NaN</td>\n",
       "      <td>1.0</td>\n",
       "      <td>5.0</td>\n",
       "      <td>NaN</td>\n",
       "      <td>NaN</td>\n",
       "      <td>187.40</td>\n",
       "      <td>2016-01-11T13:36:55</td>\n",
       "      <td>PURCHASE</td>\n",
       "    </tr>\n",
       "    <tr>\n",
       "      <th>3</th>\n",
       "      <td>733493772</td>\n",
       "      <td>2014-08-03</td>\n",
       "      <td>US</td>\n",
       "      <td>4676.52</td>\n",
       "      <td>492</td>\n",
       "      <td>9184</td>\n",
       "      <td>False</td>\n",
       "      <td>5000.0</td>\n",
       "      <td>323.48</td>\n",
       "      <td>09/2029</td>\n",
       "      <td>...</td>\n",
       "      <td>Lyft</td>\n",
       "      <td>NaN</td>\n",
       "      <td>NaN</td>\n",
       "      <td>1.0</td>\n",
       "      <td>2.0</td>\n",
       "      <td>NaN</td>\n",
       "      <td>NaN</td>\n",
       "      <td>227.34</td>\n",
       "      <td>2016-01-11T22:47:46</td>\n",
       "      <td>PURCHASE</td>\n",
       "    </tr>\n",
       "    <tr>\n",
       "      <th>4</th>\n",
       "      <td>733493772</td>\n",
       "      <td>2014-08-03</td>\n",
       "      <td>US</td>\n",
       "      <td>4449.18</td>\n",
       "      <td>492</td>\n",
       "      <td>9184</td>\n",
       "      <td>False</td>\n",
       "      <td>5000.0</td>\n",
       "      <td>550.82</td>\n",
       "      <td>10/2024</td>\n",
       "      <td>...</td>\n",
       "      <td>Lyft</td>\n",
       "      <td>NaN</td>\n",
       "      <td>NaN</td>\n",
       "      <td>1.0</td>\n",
       "      <td>2.0</td>\n",
       "      <td>NaN</td>\n",
       "      <td>NaN</td>\n",
       "      <td>0.00</td>\n",
       "      <td>2016-01-16T01:41:11</td>\n",
       "      <td>ADDRESS_VERIFICATION</td>\n",
       "    </tr>\n",
       "  </tbody>\n",
       "</table>\n",
       "<p>5 rows × 29 columns</p>\n",
       "</div>"
      ],
      "text/plain": [
       "   accountNumber accountOpenDate acqCountry  availableMoney  cardCVV  \\\n",
       "0      733493772      2014-08-03         US         5000.00      492   \n",
       "1      733493772      2014-08-03         US         4888.67      492   \n",
       "2      733493772      2014-08-03         US         4863.92      492   \n",
       "3      733493772      2014-08-03         US         4676.52      492   \n",
       "4      733493772      2014-08-03         US         4449.18      492   \n",
       "\n",
       "   cardLast4Digits  cardPresent  creditLimit  currentBalance currentExpDate  \\\n",
       "0             9184        False       5000.0            0.00        04/2020   \n",
       "1             9184        False       5000.0          111.33        06/2023   \n",
       "2             9184        False       5000.0          136.08        12/2027   \n",
       "3             9184        False       5000.0          323.48        09/2029   \n",
       "4             9184        False       5000.0          550.82        10/2024   \n",
       "\n",
       "   ...  merchantName merchantState  merchantZip  posConditionCode  \\\n",
       "0  ...          Lyft           NaN          NaN               1.0   \n",
       "1  ...          Uber           NaN          NaN               1.0   \n",
       "2  ...          Lyft           NaN          NaN               1.0   \n",
       "3  ...          Lyft           NaN          NaN               1.0   \n",
       "4  ...          Lyft           NaN          NaN               1.0   \n",
       "\n",
       "   posEntryMode  posOnPremises recurringAuthInd  transactionAmount  \\\n",
       "0           5.0            NaN              NaN             111.33   \n",
       "1           9.0            NaN              NaN              24.75   \n",
       "2           5.0            NaN              NaN             187.40   \n",
       "3           2.0            NaN              NaN             227.34   \n",
       "4           2.0            NaN              NaN               0.00   \n",
       "\n",
       "   transactionDateTime       transactionType  \n",
       "0  2016-01-08T19:04:50              PURCHASE  \n",
       "1  2016-01-09T22:32:39              PURCHASE  \n",
       "2  2016-01-11T13:36:55              PURCHASE  \n",
       "3  2016-01-11T22:47:46              PURCHASE  \n",
       "4  2016-01-16T01:41:11  ADDRESS_VERIFICATION  \n",
       "\n",
       "[5 rows x 29 columns]"
      ]
     },
     "execution_count": 18,
     "metadata": {},
     "output_type": "execute_result"
    }
   ],
   "source": [
    "df2.head()"
   ]
  },
  {
   "cell_type": "code",
   "execution_count": 19,
   "metadata": {},
   "outputs": [
    {
     "data": {
      "text/plain": [
       "accountNumber                 int64\n",
       "accountOpenDate              object\n",
       "acqCountry                   object\n",
       "availableMoney              float64\n",
       "cardCVV                       int64\n",
       "cardLast4Digits               int64\n",
       "cardPresent                    bool\n",
       "creditLimit                 float64\n",
       "currentBalance              float64\n",
       "currentExpDate               object\n",
       "customerId                    int64\n",
       "dateOfLastAddressChange      object\n",
       "echoBuffer                  float64\n",
       "enteredCVV                    int64\n",
       "expirationDateKeyInMatch       bool\n",
       "isFraud                        bool\n",
       "merchantCategoryCode         object\n",
       "merchantCity                float64\n",
       "merchantCountryCode          object\n",
       "merchantName                 object\n",
       "merchantState               float64\n",
       "merchantZip                 float64\n",
       "posConditionCode            float64\n",
       "posEntryMode                float64\n",
       "posOnPremises               float64\n",
       "recurringAuthInd            float64\n",
       "transactionAmount           float64\n",
       "transactionDateTime          object\n",
       "transactionType              object\n",
       "dtype: object"
      ]
     },
     "execution_count": 19,
     "metadata": {},
     "output_type": "execute_result"
    }
   ],
   "source": [
    "df2.dtypes"
   ]
  },
  {
   "cell_type": "code",
   "execution_count": 20,
   "metadata": {},
   "outputs": [
    {
     "data": {
      "text/plain": [
       "transactionType\n",
       "ADDRESS_VERIFICATION    0.005280\n",
       "PURCHASE                0.017924\n",
       "REVERSAL                0.018129\n",
       "Name: isFraud, dtype: float64"
      ]
     },
     "execution_count": 20,
     "metadata": {},
     "output_type": "execute_result"
    }
   ],
   "source": [
    "df2.groupby('transactionType').mean()['isFraud']"
   ]
  },
  {
   "cell_type": "code",
   "execution_count": 21,
   "metadata": {},
   "outputs": [
    {
     "data": {
      "text/plain": [
       "merchantCategoryCode\n",
       "airline                 0.020621\n",
       "auto                    0.020794\n",
       "cable/phone             0.000000\n",
       "entertainment           0.013422\n",
       "fastfood                0.017165\n",
       "food                    0.020368\n",
       "food_delivery           0.000000\n",
       "fuel                    0.000000\n",
       "furniture               0.012799\n",
       "gym                     0.000000\n",
       "health                  0.019172\n",
       "hotels                  0.028410\n",
       "mobileapps              0.000000\n",
       "online_gifts            0.019791\n",
       "online_retail           0.022586\n",
       "online_subscriptions    0.000000\n",
       "personal care           0.012059\n",
       "rideshare               0.022245\n",
       "subscriptions           0.009523\n",
       "Name: isFraud, dtype: float64"
      ]
     },
     "execution_count": 21,
     "metadata": {},
     "output_type": "execute_result"
    }
   ],
   "source": [
    "df2.groupby('merchantCategoryCode').mean()['isFraud']"
   ]
  },
  {
   "cell_type": "code",
   "execution_count": 22,
   "metadata": {},
   "outputs": [],
   "source": [
    "# clean train\n",
    "train = Processing.clean_b(df2)"
   ]
  },
  {
   "cell_type": "code",
   "execution_count": 23,
   "metadata": {},
   "outputs": [],
   "source": [
    "# create feature and target \n",
    "X = train.drop(['isFraud'], axis = 1)\n",
    "y = train['isFraud']"
   ]
  },
  {
   "cell_type": "code",
   "execution_count": 24,
   "metadata": {},
   "outputs": [],
   "source": [
    "pipe = Processing.features_b(X)"
   ]
  },
  {
   "cell_type": "code",
   "execution_count": 25,
   "metadata": {},
   "outputs": [],
   "source": [
    "pipe.fit(X)\n",
    "X = pipe.transform(X)"
   ]
  },
  {
   "cell_type": "code",
   "execution_count": 26,
   "metadata": {},
   "outputs": [
    {
     "name": "stdout",
     "output_type": "stream",
     "text": [
      "[0]\ttrain-auc:0.711197\tvalid-auc:0.715886\n",
      "Multiple eval metrics have been passed: 'valid-auc' will be used for early stopping.\n",
      "\n",
      "Will train until valid-auc hasn't improved in 10 rounds.\n",
      "[1]\ttrain-auc:0.725325\tvalid-auc:0.72898\n",
      "[2]\ttrain-auc:0.718991\tvalid-auc:0.720807\n",
      "[3]\ttrain-auc:0.735397\tvalid-auc:0.739211\n",
      "[4]\ttrain-auc:0.739788\tvalid-auc:0.74218\n",
      "[5]\ttrain-auc:0.737932\tvalid-auc:0.742261\n",
      "[6]\ttrain-auc:0.73366\tvalid-auc:0.737407\n",
      "[7]\ttrain-auc:0.739364\tvalid-auc:0.74483\n",
      "[8]\ttrain-auc:0.73347\tvalid-auc:0.739813\n",
      "[9]\ttrain-auc:0.744236\tvalid-auc:0.747347\n",
      "[10]\ttrain-auc:0.744497\tvalid-auc:0.747683\n",
      "[11]\ttrain-auc:0.747443\tvalid-auc:0.746905\n",
      "[12]\ttrain-auc:0.748533\tvalid-auc:0.745814\n",
      "[13]\ttrain-auc:0.751655\tvalid-auc:0.750378\n",
      "[14]\ttrain-auc:0.751436\tvalid-auc:0.75002\n",
      "[15]\ttrain-auc:0.750727\tvalid-auc:0.748555\n",
      "[16]\ttrain-auc:0.751451\tvalid-auc:0.749519\n",
      "[17]\ttrain-auc:0.75631\tvalid-auc:0.754637\n",
      "[18]\ttrain-auc:0.758055\tvalid-auc:0.75708\n",
      "[19]\ttrain-auc:0.75924\tvalid-auc:0.758062\n",
      "[20]\ttrain-auc:0.759918\tvalid-auc:0.757679\n",
      "[21]\ttrain-auc:0.761891\tvalid-auc:0.757767\n",
      "[22]\ttrain-auc:0.76259\tvalid-auc:0.758724\n",
      "[23]\ttrain-auc:0.76239\tvalid-auc:0.758363\n",
      "[24]\ttrain-auc:0.763128\tvalid-auc:0.757408\n",
      "[25]\ttrain-auc:0.763376\tvalid-auc:0.754989\n",
      "[26]\ttrain-auc:0.763761\tvalid-auc:0.75601\n",
      "[27]\ttrain-auc:0.764489\tvalid-auc:0.756517\n",
      "[28]\ttrain-auc:0.765783\tvalid-auc:0.758191\n",
      "[29]\ttrain-auc:0.765649\tvalid-auc:0.756741\n",
      "[30]\ttrain-auc:0.766114\tvalid-auc:0.757042\n",
      "[31]\ttrain-auc:0.76773\tvalid-auc:0.757948\n",
      "[32]\ttrain-auc:0.766774\tvalid-auc:0.756399\n",
      "Stopping. Best iteration:\n",
      "[22]\ttrain-auc:0.76259\tvalid-auc:0.758724\n",
      "\n",
      "ROC score: 0.7521769107152564\n",
      "              precision    recall  f1-score   support\n",
      "\n",
      "       False       0.98      1.00      0.99     63033\n",
      "        True       0.00      0.00      0.00      1159\n",
      "\n",
      "    accuracy                           0.98     64192\n",
      "   macro avg       0.49      0.50      0.50     64192\n",
      "weighted avg       0.96      0.98      0.97     64192\n",
      "\n",
      "Classification report: None\n",
      "[(0.1, 1), (0.2, 1), (0.3, 1), (0.4, 1), (0.5, 1), (0.6, 1), (0.7, 1), (0.8, 1), (0.9, 1)]\n"
     ]
    },
    {
     "data": {
      "text/plain": [
       "<xgboost.core.Booster at 0x120935358>"
      ]
     },
     "execution_count": 26,
     "metadata": {},
     "output_type": "execute_result"
    }
   ],
   "source": [
    "Models.baseline(X, y)"
   ]
  },
  {
   "cell_type": "code",
   "execution_count": 27,
   "metadata": {
    "scrolled": false
   },
   "outputs": [
    {
     "name": "stdout",
     "output_type": "stream",
     "text": [
      "[0]\ttrain-auc:0.746234\tvalid-auc:0.721182\n",
      "Multiple eval metrics have been passed: 'valid-auc' will be used for early stopping.\n",
      "\n",
      "Will train until valid-auc hasn't improved in 10 rounds.\n",
      "[1]\ttrain-auc:0.754903\tvalid-auc:0.730325\n",
      "[2]\ttrain-auc:0.744755\tvalid-auc:0.72713\n",
      "[3]\ttrain-auc:0.745501\tvalid-auc:0.724645\n",
      "[4]\ttrain-auc:0.753988\tvalid-auc:0.731074\n",
      "[5]\ttrain-auc:0.751926\tvalid-auc:0.729564\n",
      "[6]\ttrain-auc:0.75127\tvalid-auc:0.728067\n",
      "[7]\ttrain-auc:0.748558\tvalid-auc:0.728534\n",
      "[8]\ttrain-auc:0.765839\tvalid-auc:0.742123\n",
      "[9]\ttrain-auc:0.76589\tvalid-auc:0.744677\n",
      "[10]\ttrain-auc:0.764293\tvalid-auc:0.744103\n",
      "[11]\ttrain-auc:0.772693\tvalid-auc:0.750703\n",
      "[12]\ttrain-auc:0.77901\tvalid-auc:0.754283\n",
      "[13]\ttrain-auc:0.779379\tvalid-auc:0.754239\n",
      "[14]\ttrain-auc:0.779757\tvalid-auc:0.753275\n",
      "[15]\ttrain-auc:0.784425\tvalid-auc:0.754912\n",
      "[16]\ttrain-auc:0.784175\tvalid-auc:0.754413\n",
      "[17]\ttrain-auc:0.786084\tvalid-auc:0.754784\n",
      "[18]\ttrain-auc:0.786846\tvalid-auc:0.755044\n",
      "[19]\ttrain-auc:0.787807\tvalid-auc:0.756198\n",
      "[20]\ttrain-auc:0.788656\tvalid-auc:0.756679\n",
      "[21]\ttrain-auc:0.793478\tvalid-auc:0.759299\n",
      "[22]\ttrain-auc:0.792672\tvalid-auc:0.758724\n",
      "[23]\ttrain-auc:0.793116\tvalid-auc:0.759221\n",
      "[24]\ttrain-auc:0.794024\tvalid-auc:0.759239\n",
      "[25]\ttrain-auc:0.79336\tvalid-auc:0.759144\n",
      "[26]\ttrain-auc:0.793735\tvalid-auc:0.759211\n",
      "[27]\ttrain-auc:0.793881\tvalid-auc:0.759571\n",
      "[28]\ttrain-auc:0.794748\tvalid-auc:0.759036\n",
      "[29]\ttrain-auc:0.797144\tvalid-auc:0.760214\n",
      "[30]\ttrain-auc:0.797854\tvalid-auc:0.76034\n",
      "[31]\ttrain-auc:0.798012\tvalid-auc:0.760561\n",
      "[32]\ttrain-auc:0.799933\tvalid-auc:0.761042\n",
      "[33]\ttrain-auc:0.800343\tvalid-auc:0.761364\n",
      "[34]\ttrain-auc:0.800629\tvalid-auc:0.761392\n",
      "[35]\ttrain-auc:0.801111\tvalid-auc:0.76193\n",
      "[36]\ttrain-auc:0.800812\tvalid-auc:0.761958\n",
      "[37]\ttrain-auc:0.801417\tvalid-auc:0.76245\n",
      "[38]\ttrain-auc:0.801153\tvalid-auc:0.762521\n",
      "[39]\ttrain-auc:0.800864\tvalid-auc:0.762519\n",
      "[40]\ttrain-auc:0.802143\tvalid-auc:0.763206\n",
      "[41]\ttrain-auc:0.803592\tvalid-auc:0.764187\n",
      "[42]\ttrain-auc:0.804243\tvalid-auc:0.764444\n",
      "[43]\ttrain-auc:0.80517\tvalid-auc:0.765031\n",
      "[44]\ttrain-auc:0.805658\tvalid-auc:0.765591\n",
      "[45]\ttrain-auc:0.806406\tvalid-auc:0.765613\n",
      "[46]\ttrain-auc:0.806844\tvalid-auc:0.765552\n",
      "[47]\ttrain-auc:0.806884\tvalid-auc:0.765524\n",
      "[48]\ttrain-auc:0.80698\tvalid-auc:0.765351\n",
      "[49]\ttrain-auc:0.80703\tvalid-auc:0.765375\n",
      "[50]\ttrain-auc:0.808504\tvalid-auc:0.765878\n",
      "[51]\ttrain-auc:0.810021\tvalid-auc:0.76687\n",
      "[52]\ttrain-auc:0.81049\tvalid-auc:0.767142\n",
      "[53]\ttrain-auc:0.811002\tvalid-auc:0.767465\n",
      "[54]\ttrain-auc:0.811335\tvalid-auc:0.767465\n",
      "[55]\ttrain-auc:0.81237\tvalid-auc:0.767456\n",
      "[56]\ttrain-auc:0.813677\tvalid-auc:0.767701\n",
      "[57]\ttrain-auc:0.81434\tvalid-auc:0.767882\n",
      "[58]\ttrain-auc:0.814766\tvalid-auc:0.767923\n",
      "[59]\ttrain-auc:0.815606\tvalid-auc:0.76785\n",
      "[60]\ttrain-auc:0.816268\tvalid-auc:0.768126\n",
      "[61]\ttrain-auc:0.816992\tvalid-auc:0.768353\n",
      "[62]\ttrain-auc:0.817297\tvalid-auc:0.76845\n",
      "[63]\ttrain-auc:0.817447\tvalid-auc:0.768472\n",
      "[64]\ttrain-auc:0.817785\tvalid-auc:0.768429\n",
      "[65]\ttrain-auc:0.818033\tvalid-auc:0.768534\n",
      "[66]\ttrain-auc:0.818446\tvalid-auc:0.768573\n",
      "[67]\ttrain-auc:0.818867\tvalid-auc:0.768768\n",
      "[68]\ttrain-auc:0.819323\tvalid-auc:0.768979\n",
      "[69]\ttrain-auc:0.819692\tvalid-auc:0.769156\n",
      "[70]\ttrain-auc:0.820682\tvalid-auc:0.769364\n",
      "[71]\ttrain-auc:0.820794\tvalid-auc:0.769451\n",
      "[72]\ttrain-auc:0.820931\tvalid-auc:0.769445\n",
      "[73]\ttrain-auc:0.821008\tvalid-auc:0.769388\n",
      "[74]\ttrain-auc:0.821336\tvalid-auc:0.769527\n",
      "[75]\ttrain-auc:0.822154\tvalid-auc:0.769616\n",
      "[76]\ttrain-auc:0.822938\tvalid-auc:0.769774\n",
      "[77]\ttrain-auc:0.823108\tvalid-auc:0.769867\n",
      "[78]\ttrain-auc:0.823292\tvalid-auc:0.769867\n",
      "[79]\ttrain-auc:0.823496\tvalid-auc:0.770054\n",
      "[80]\ttrain-auc:0.823862\tvalid-auc:0.770275\n",
      "[81]\ttrain-auc:0.823839\tvalid-auc:0.770199\n",
      "[82]\ttrain-auc:0.824004\tvalid-auc:0.770209\n",
      "[83]\ttrain-auc:0.824646\tvalid-auc:0.770258\n",
      "[84]\ttrain-auc:0.825014\tvalid-auc:0.770211\n",
      "[85]\ttrain-auc:0.825376\tvalid-auc:0.770212\n",
      "[86]\ttrain-auc:0.825467\tvalid-auc:0.770155\n",
      "[87]\ttrain-auc:0.825984\tvalid-auc:0.770324\n",
      "[88]\ttrain-auc:0.82618\tvalid-auc:0.770401\n",
      "[89]\ttrain-auc:0.826472\tvalid-auc:0.77032\n",
      "[90]\ttrain-auc:0.826548\tvalid-auc:0.770308\n",
      "[91]\ttrain-auc:0.826712\tvalid-auc:0.770343\n",
      "[92]\ttrain-auc:0.827519\tvalid-auc:0.770452\n",
      "[93]\ttrain-auc:0.82789\tvalid-auc:0.770472\n",
      "[94]\ttrain-auc:0.828386\tvalid-auc:0.770724\n",
      "[95]\ttrain-auc:0.828478\tvalid-auc:0.770722\n",
      "[96]\ttrain-auc:0.829418\tvalid-auc:0.770567\n",
      "[97]\ttrain-auc:0.829797\tvalid-auc:0.770603\n",
      "[98]\ttrain-auc:0.830209\tvalid-auc:0.770479\n",
      "[99]\ttrain-auc:0.83053\tvalid-auc:0.770498\n",
      "[100]\ttrain-auc:0.830661\tvalid-auc:0.770536\n",
      "[101]\ttrain-auc:0.830774\tvalid-auc:0.770552\n",
      "[102]\ttrain-auc:0.831329\tvalid-auc:0.770526\n",
      "[103]\ttrain-auc:0.832034\tvalid-auc:0.770516\n",
      "[104]\ttrain-auc:0.832867\tvalid-auc:0.770623\n",
      "Stopping. Best iteration:\n",
      "[94]\ttrain-auc:0.828386\tvalid-auc:0.770724\n",
      "\n",
      "ROC score: 0.76435274388984\n",
      "              precision    recall  f1-score   support\n",
      "\n",
      "       False       0.99      0.72      0.83     63033\n",
      "        True       0.04      0.67      0.08      1159\n",
      "\n",
      "    accuracy                           0.72     64192\n",
      "   macro avg       0.52      0.69      0.46     64192\n",
      "weighted avg       0.97      0.72      0.82     64192\n",
      "\n",
      "Classification report: None\n",
      "[(0.1, 0.020287212217916573), (0.2, 0.02280499403063599), (0.3, 0.027410849475278023), (0.4, 0.033790348699125554), (0.5, 0.041666666666666664), (0.6, 0.05222050676596131), (0.7, 0.0678139725466093), (0.8, 0.08691674290942361), (0.9, 0.25)]\n"
     ]
    },
    {
     "data": {
      "text/plain": [
       "<xgboost.core.Booster at 0x120855048>"
      ]
     },
     "execution_count": 27,
     "metadata": {},
     "output_type": "execute_result"
    }
   ],
   "source": [
    "Models.resample_baseline(X, y)"
   ]
  }
 ],
 "metadata": {
  "kernelspec": {
   "display_name": "Python 3",
   "language": "python",
   "name": "python3"
  },
  "language_info": {
   "codemirror_mode": {
    "name": "ipython",
    "version": 3
   },
   "file_extension": ".py",
   "mimetype": "text/x-python",
   "name": "python",
   "nbconvert_exporter": "python",
   "pygments_lexer": "ipython3",
   "version": "3.7.3"
  }
 },
 "nbformat": 4,
 "nbformat_minor": 2
}
