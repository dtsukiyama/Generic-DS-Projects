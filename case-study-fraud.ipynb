{
 "cells": [
  {
   "cell_type": "markdown",
   "metadata": {},
   "source": [
    "# Fraud Detection\n",
    "\n",
    "\n",
    "### Design Doc\n",
    "\n",
    "__Scope__\n",
    "\n",
    "The idea here is to follow this design document to build our initial baseline model and reuse as much code as possible and do so relatively quickly.\n",
    "\n",
    "I tested this approach with this data: https://www.kaggle.com/mlg-ulb/creditcardfraud\n",
    "\n",
    "\n",
    "__Goal__\n",
    "\n",
    "Predict ```Class``` label, which represents fraudulent activity.\n",
    "\n",
    "The ```Class``` label is relatively rare, which means our dataset is imbalanced. \n",
    "\n",
    "    \n",
    "__Baseline Feature Engineering__\n",
    "\n",
    "1. Remove features that entirely null.\n",
    "2. Time based features: hour, day, etc.. (if any).\n",
    "3. Categorical features should be one-hot encoded (if any).\n",
    "4. Dollar features should be logged (if any).\n",
    "5. Non monetary continuous features scaled.\n",
    "6. Perhaps some row level statistics.\n",
    "6. Upsampling.\n",
    "\n",
    "Things to be wary of:\n",
    "\n",
    "    - leakage\n",
    "    - features that are in our test set (or production) that may not be in our training data\n",
    "    - When oversampling, do not oversample test set.\n",
    "\n",
    "__Baseline Model and Error Metric__\n",
    "\n",
    "1. Tree based model, XGboost. The decision to use XGBoost over other tree implementations comes down to speed, flexibility, and performance. XGBoost allows for custom optimization functions and parallelized for speed. \n",
    "\n",
    "2. I think we will be looking at the precision and recall on our two classes as well as AUC. XGBoost allows for the following evaluation metrics: log loss, auc, and auc pr (precision and recall).\n",
    "\n",
    "    - Binary classification problem\n",
    "    - Imbalanced data\n",
    "    - True positive and/or False positive rate may be important to judge performance\n",
    "\n",
    "__Project Structure__\n",
    "\n",
    "```\n",
    "\\utils\n",
    "- utils.py\n",
    "- models.py\n",
    "- pipeline.py\n",
    "```\n",
    "\n",
    "__Steps__\n",
    "\n",
    "1. Clean data.\n",
    "2. Pass clean data through Pipeline.\n",
    "3. Train and evaluate baseline model.\n",
    "\n",
    "Repeat process but with random oversampling.\n",
    "\n",
    "__First Baseline__\n",
    "\n",
    "\n",
    "The initial model seems to perform relatively well in terms of precision and precision for the fraud class:\n",
    "\n",
    "```\n",
    "ROC score: 0.9521513784678161\n",
    "\n",
    "              precision    recall  f1-score   support\n",
    "\n",
    "           0       1.00      1.00      1.00     28429\n",
    "           1       0.90      0.52      0.66        52\n",
    "\n",
    "    accuracy                           1.00     28481\n",
    "   macro avg       0.95      0.76      0.83     28481\n",
    "weighted avg       1.00      1.00      1.00     28481\n",
    "\n",
    "```\n",
    "\n",
    "To help improve the recall of our model we will use random oversampling with the Python package ```imbalanced-learn,``` I referred to this [documentation](https://imbalanced-learn.readthedocs.io/en/stable/over_sampling.html#random-over-sampler).\n",
    "\n",
    "\n",
    "__Upsampling__\n",
    "\n",
    "By upsampling our data our original baseline model performs better:\n",
    "\n",
    "```\n",
    "ROC score: 0.9791731493031223\n",
    "\n",
    "              precision    recall  f1-score   support\n",
    "\n",
    "           0       1.00      1.00      1.00     28429\n",
    "           1       0.76      0.85      0.80        52\n",
    "\n",
    "    accuracy                           1.00     28481\n",
    "   macro avg       0.88      0.92      0.90     28481\n",
    "weighted avg       1.00      1.00      1.00     28481\n",
    "\n",
    "```\n",
    "\n",
    "We increased recall on the fraud class label from 0.52 to 0.85. However Precision took a hit. However if we adjust the threshold of prediction we can concentrate on the cases we are most confident in. For example adjusting the prediction threshold to 0.8 we get 90% of cases. On the other hand we only capture a small percentage of overall fraud cases. \n",
    "\n",
    "\n",
    "If we adjust the prediction threshold we can focus on those case we have the most confidence in:\n",
    "\n",
    "```\n",
    "[(0.1, 0.0018258426966292136), \n",
    " (0.2, 0.0344311377245509),\n",
    " (0.3, 0.20087336244541484),\n",
    " (0.4, 0.5056179775280899),\n",
    " (0.5, 0.7586206896551724),\n",
    " (0.6, 0.8148148148148148),\n",
    " (0.7, 0.86),\n",
    " (0.8, 0.8913043478260869),\n",
    " (0.9, 1)]\n",
    "\n",
    "```\n",
    "\n",
    "__Additional Issues__\n",
    "\n",
    "While we can adjust our prediction threshold to caputure the majority of cases for small percentage of fraud cases, the question I ask myself is: Are these the most risky cases, i.e. most costly?\n",
    "\n",
    "\n",
    "__Things that I did not do, but if I had time I would have__\n",
    "\n",
    "1. Synthetic Minority Oversampling Technique (SMOTE), this method seems to take a long time to fit; therefore I decided not to pursue it.\n",
    "\n",
    "https://imbalanced-learn.readthedocs.io/en/stable/generated/imblearn.over_sampling.SMOTE.html\n",
    "\n",
    "```python\n",
    "sm = SMOTE(random_state=42)\n",
    "X_res, y_res = sm.fit_resample(X, y)\n",
    "```\n",
    "\n",
    "2. Hyperparameter optimization. I think the important issue was resampling the data. I know I could have spent some significant time on hyperparameter optimization.\n",
    "\n",
    "3. Cross-validation. I think there would have been additional complexity combining cross-validation with random oversampling and by extension time spent on doing just that; therefore I kept things simple. However I think cross-validation would improve the performance here since we are using a tree based approach, which has issues with variance."
   ]
  },
  {
   "cell_type": "code",
   "execution_count": 35,
   "metadata": {},
   "outputs": [
    {
     "name": "stdout",
     "output_type": "stream",
     "text": [
      "The autoreload extension is already loaded. To reload it, use:\n",
      "  %reload_ext autoreload\n",
      "Populating the interactive namespace from numpy and matplotlib\n"
     ]
    }
   ],
   "source": [
    "%load_ext autoreload\n",
    "%autoreload 2\n",
    "\n",
    "import time\n",
    "import pandas as pd\n",
    "import numpy as np\n",
    "import seaborn as sns\n",
    "import matplotlib.pyplot as plt\n",
    "\n",
    "from collections import Counter\n",
    "from utils.models import Processing, Models, Metrics\n",
    "\n",
    "sns.set(style=\"dark\")\n",
    "\n",
    "%pylab inline"
   ]
  },
  {
   "cell_type": "code",
   "execution_count": 2,
   "metadata": {},
   "outputs": [],
   "source": [
    "df = pd.read_csv('data/creditcard.csv')"
   ]
  },
  {
   "cell_type": "code",
   "execution_count": 3,
   "metadata": {},
   "outputs": [
    {
     "data": {
      "text/plain": [
       "(284807, 31)"
      ]
     },
     "execution_count": 3,
     "metadata": {},
     "output_type": "execute_result"
    }
   ],
   "source": [
    "df.shape"
   ]
  },
  {
   "cell_type": "code",
   "execution_count": 4,
   "metadata": {},
   "outputs": [
    {
     "data": {
      "text/plain": [
       "Time      float64\n",
       "V1        float64\n",
       "V2        float64\n",
       "V3        float64\n",
       "V4        float64\n",
       "V5        float64\n",
       "V6        float64\n",
       "V7        float64\n",
       "V8        float64\n",
       "V9        float64\n",
       "V10       float64\n",
       "V11       float64\n",
       "V12       float64\n",
       "V13       float64\n",
       "V14       float64\n",
       "V15       float64\n",
       "V16       float64\n",
       "V17       float64\n",
       "V18       float64\n",
       "V19       float64\n",
       "V20       float64\n",
       "V21       float64\n",
       "V22       float64\n",
       "V23       float64\n",
       "V24       float64\n",
       "V25       float64\n",
       "V26       float64\n",
       "V27       float64\n",
       "V28       float64\n",
       "Amount    float64\n",
       "Class       int64\n",
       "dtype: object"
      ]
     },
     "execution_count": 4,
     "metadata": {},
     "output_type": "execute_result"
    }
   ],
   "source": [
    "df.dtypes"
   ]
  },
  {
   "cell_type": "code",
   "execution_count": 5,
   "metadata": {},
   "outputs": [
    {
     "data": {
      "text/plain": [
       "count    284807.000000\n",
       "mean          0.001727\n",
       "std           0.041527\n",
       "min           0.000000\n",
       "25%           0.000000\n",
       "50%           0.000000\n",
       "75%           0.000000\n",
       "max           1.000000\n",
       "Name: Class, dtype: float64"
      ]
     },
     "execution_count": 5,
     "metadata": {},
     "output_type": "execute_result"
    }
   ],
   "source": [
    "df['Class'].describe()"
   ]
  },
  {
   "cell_type": "code",
   "execution_count": 6,
   "metadata": {},
   "outputs": [
    {
     "data": {
      "text/plain": [
       "Counter({0: 284315, 1: 492})"
      ]
     },
     "execution_count": 6,
     "metadata": {},
     "output_type": "execute_result"
    }
   ],
   "source": [
    "Counter(df['Class'])"
   ]
  },
  {
   "cell_type": "code",
   "execution_count": 6,
   "metadata": {},
   "outputs": [
    {
     "data": {
      "text/plain": [
       "Text(0.5, 0, 'Amount')"
      ]
     },
     "execution_count": 6,
     "metadata": {},
     "output_type": "execute_result"
    },
    {
     "data": {
      "image/png": "[encoded data removed]",
      "text/plain": [
       "<Figure size 864x576 with 1 Axes>"
      ]
     },
     "metadata": {
      "needs_background": "light"
     },
     "output_type": "display_data"
    }
   ],
   "source": [
    "df['Amount'].hist(bins = 100, figsize=(12, 8))\n",
    "plt.title('Transaction Amount Distribution')\n",
    "plt.ylabel('Frequency')\n",
    "plt.xlabel('Amount')"
   ]
  },
  {
   "cell_type": "code",
   "execution_count": 7,
   "metadata": {},
   "outputs": [
    {
     "data": {
      "text/plain": [
       "Time      0\n",
       "V1        0\n",
       "V2        0\n",
       "V3        0\n",
       "V4        0\n",
       "V5        0\n",
       "V6        0\n",
       "V7        0\n",
       "V8        0\n",
       "V9        0\n",
       "V10       0\n",
       "V11       0\n",
       "V12       0\n",
       "V13       0\n",
       "V14       0\n",
       "V15       0\n",
       "V16       0\n",
       "V17       0\n",
       "V18       0\n",
       "V19       0\n",
       "V20       0\n",
       "V21       0\n",
       "V22       0\n",
       "V23       0\n",
       "V24       0\n",
       "V25       0\n",
       "V26       0\n",
       "V27       0\n",
       "V28       0\n",
       "Amount    0\n",
       "Class     0\n",
       "dtype: int64"
      ]
     },
     "execution_count": 7,
     "metadata": {},
     "output_type": "execute_result"
    }
   ],
   "source": [
    "df.isnull().sum()"
   ]
  },
  {
   "cell_type": "code",
   "execution_count": 8,
   "metadata": {},
   "outputs": [],
   "source": [
    "# clean train\n",
    "train = Processing.clean(df)"
   ]
  },
  {
   "cell_type": "code",
   "execution_count": 9,
   "metadata": {},
   "outputs": [],
   "source": [
    "# create feature and target \n",
    "X = train.drop(['Class'], axis = 1)\n",
    "y = train['Class']"
   ]
  },
  {
   "cell_type": "code",
   "execution_count": 10,
   "metadata": {},
   "outputs": [],
   "source": [
    "pipe = Processing.features(X)"
   ]
  },
  {
   "cell_type": "code",
   "execution_count": 11,
   "metadata": {},
   "outputs": [],
   "source": [
    "pipe.fit(X)\n",
    "X = pipe.transform(X)"
   ]
  },
  {
   "cell_type": "code",
   "execution_count": 12,
   "metadata": {},
   "outputs": [
    {
     "name": "stderr",
     "output_type": "stream",
     "text": [
      "/Users/maitsukiyama/miniconda3/envs/test/lib/python3.7/site-packages/xgboost/core.py:587: FutureWarning: Series.base is deprecated and will be removed in a future version\n",
      "  if getattr(data, 'base', None) is not None and \\\n"
     ]
    },
    {
     "name": "stdout",
     "output_type": "stream",
     "text": [
      "[0]\ttrain-auc:0.877393\tvalid-auc:0.924628\n",
      "Multiple eval metrics have been passed: 'valid-auc' will be used for early stopping.\n",
      "\n",
      "Will train until valid-auc hasn't improved in 10 rounds.\n",
      "[1]\ttrain-auc:0.888379\tvalid-auc:0.924586\n",
      "[2]\ttrain-auc:0.900588\tvalid-auc:0.92446\n",
      "[3]\ttrain-auc:0.900526\tvalid-auc:0.924418\n",
      "[4]\ttrain-auc:0.918312\tvalid-auc:0.936755\n",
      "[5]\ttrain-auc:0.918083\tvalid-auc:0.936622\n",
      "[6]\ttrain-auc:0.922425\tvalid-auc:0.942932\n",
      "[7]\ttrain-auc:0.951965\tvalid-auc:0.945401\n",
      "[8]\ttrain-auc:0.951844\tvalid-auc:0.945301\n",
      "[9]\ttrain-auc:0.95181\tvalid-auc:0.945292\n",
      "[10]\ttrain-auc:0.951271\tvalid-auc:0.944774\n",
      "[11]\ttrain-auc:0.95129\tvalid-auc:0.944797\n",
      "[12]\ttrain-auc:0.952377\tvalid-auc:0.94455\n",
      "[13]\ttrain-auc:0.952432\tvalid-auc:0.951237\n",
      "[14]\ttrain-auc:0.952465\tvalid-auc:0.951254\n",
      "[15]\ttrain-auc:0.952338\tvalid-auc:0.95116\n",
      "[16]\ttrain-auc:0.953736\tvalid-auc:0.951134\n",
      "[17]\ttrain-auc:0.953752\tvalid-auc:0.951078\n",
      "[18]\ttrain-auc:0.953564\tvalid-auc:0.950983\n",
      "[19]\ttrain-auc:0.953592\tvalid-auc:0.950945\n",
      "[20]\ttrain-auc:0.953618\tvalid-auc:0.950957\n",
      "[21]\ttrain-auc:0.95365\tvalid-auc:0.950971\n",
      "[22]\ttrain-auc:0.954652\tvalid-auc:0.950489\n",
      "[23]\ttrain-auc:0.95548\tvalid-auc:0.949823\n",
      "[24]\ttrain-auc:0.955418\tvalid-auc:0.949731\n",
      "Stopping. Best iteration:\n",
      "[14]\ttrain-auc:0.952465\tvalid-auc:0.951254\n",
      "\n",
      "ROC score: 0.9521513784678161\n",
      "              precision    recall  f1-score   support\n",
      "\n",
      "           0       1.00      1.00      1.00     28429\n",
      "           1       0.90      0.52      0.66        52\n",
      "\n",
      "    accuracy                           1.00     28481\n",
      "   macro avg       0.95      0.76      0.83     28481\n",
      "weighted avg       1.00      1.00      1.00     28481\n",
      "\n",
      "Classification report: None\n",
      "[(0.1, 0.5789473684210527), (0.2, 0.8695652173913043), (0.3, 0.9069767441860465), (0.4, 0.9230769230769231), (0.5, 0.9), (0.6, 0.8888888888888888), (0.7, 0.88), (0.8, 1), (0.9, 1)]\n"
     ]
    },
    {
     "data": {
      "text/plain": [
       "<xgboost.core.Booster at 0x11b879f28>"
      ]
     },
     "execution_count": 12,
     "metadata": {},
     "output_type": "execute_result"
    }
   ],
   "source": [
    "Models.baseline(X, y)"
   ]
  },
  {
   "cell_type": "code",
   "execution_count": 15,
   "metadata": {},
   "outputs": [
    {
     "name": "stderr",
     "output_type": "stream",
     "text": [
      "/Users/maitsukiyama/miniconda3/envs/test/lib/python3.7/site-packages/xgboost/core.py:587: FutureWarning: Series.base is deprecated and will be removed in a future version\n",
      "  if getattr(data, 'base', None) is not None and \\\n"
     ]
    },
    {
     "name": "stdout",
     "output_type": "stream",
     "text": [
      "[0]\ttrain-auc:0.993238\tvalid-auc:0.945229\n",
      "Multiple eval metrics have been passed: 'valid-auc' will be used for early stopping.\n",
      "\n",
      "Will train until valid-auc hasn't improved in 10 rounds.\n",
      "[1]\ttrain-auc:0.994024\tvalid-auc:0.947909\n",
      "[2]\ttrain-auc:0.998402\tvalid-auc:0.962996\n",
      "[3]\ttrain-auc:0.99925\tvalid-auc:0.977756\n",
      "[4]\ttrain-auc:0.999472\tvalid-auc:0.987629\n",
      "[5]\ttrain-auc:0.999727\tvalid-auc:0.986892\n",
      "[6]\ttrain-auc:0.999763\tvalid-auc:0.986536\n",
      "[7]\ttrain-auc:0.99978\tvalid-auc:0.984592\n",
      "[8]\ttrain-auc:0.99979\tvalid-auc:0.98276\n",
      "[9]\ttrain-auc:0.999822\tvalid-auc:0.983861\n",
      "[10]\ttrain-auc:0.999835\tvalid-auc:0.985182\n",
      "[11]\ttrain-auc:0.999844\tvalid-auc:0.983808\n",
      "[12]\ttrain-auc:0.999847\tvalid-auc:0.984058\n",
      "[13]\ttrain-auc:0.999848\tvalid-auc:0.984244\n",
      "[14]\ttrain-auc:0.999849\tvalid-auc:0.982994\n",
      "Stopping. Best iteration:\n",
      "[4]\ttrain-auc:0.999472\tvalid-auc:0.987629\n",
      "\n",
      "ROC score: 0.9791731493031223\n",
      "              precision    recall  f1-score   support\n",
      "\n",
      "           0       1.00      1.00      1.00     28429\n",
      "           1       0.76      0.85      0.80        52\n",
      "\n",
      "    accuracy                           1.00     28481\n",
      "   macro avg       0.88      0.92      0.90     28481\n",
      "weighted avg       1.00      1.00      1.00     28481\n",
      "\n",
      "Classification report: None\n",
      "[(0.1, 0.0018258426966292136), (0.2, 0.0344311377245509), (0.3, 0.20087336244541484), (0.4, 0.5056179775280899), (0.5, 0.7586206896551724), (0.6, 0.8148148148148148), (0.7, 0.86), (0.8, 0.8913043478260869), (0.9, 1)]\n"
     ]
    },
    {
     "data": {
      "text/plain": [
       "<xgboost.core.Booster at 0x12485c208>"
      ]
     },
     "execution_count": 15,
     "metadata": {},
     "output_type": "execute_result"
    }
   ],
   "source": [
    "Models.resample_baseline(X, y)"
   ]
  }
 ],
 "metadata": {
  "kernelspec": {
   "display_name": "Python 3",
   "language": "python",
   "name": "python3"
  },
  "language_info": {
   "codemirror_mode": {
    "name": "ipython",
    "version": 3
   },
   "file_extension": ".py",
   "mimetype": "text/x-python",
   "name": "python",
   "nbconvert_exporter": "python",
   "pygments_lexer": "ipython3",
   "version": "3.7.3"
  }
 },
 "nbformat": 4,
 "nbformat_minor": 2
}
